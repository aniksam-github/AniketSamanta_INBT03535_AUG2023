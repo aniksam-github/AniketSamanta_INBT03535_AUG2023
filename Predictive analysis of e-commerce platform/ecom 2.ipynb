{
 "cells": [
  {
   "cell_type": "code",
   "execution_count": 1,
   "id": "6303c115",
   "metadata": {},
   "outputs": [],
   "source": [
    "import pandas as pd\n",
    "import numpy as np\n",
    "import matplotlib.pyplot as plt\n",
    "import warnings "
   ]
  },
  {
   "cell_type": "code",
   "execution_count": 2,
   "id": "f2114da1",
   "metadata": {},
   "outputs": [],
   "source": [
    "df = pd.read_csv('edata.csv')"
   ]
  },
  {
   "cell_type": "code",
   "execution_count": 3,
   "id": "ff97934b",
   "metadata": {
    "scrolled": true
   },
   "outputs": [
    {
     "data": {
      "text/html": [
       "<div>\n",
       "<style scoped>\n",
       "    .dataframe tbody tr th:only-of-type {\n",
       "        vertical-align: middle;\n",
       "    }\n",
       "\n",
       "    .dataframe tbody tr th {\n",
       "        vertical-align: top;\n",
       "    }\n",
       "\n",
       "    .dataframe thead th {\n",
       "        text-align: right;\n",
       "    }\n",
       "</style>\n",
       "<table border=\"1\" class=\"dataframe\">\n",
       "  <thead>\n",
       "    <tr style=\"text-align: right;\">\n",
       "      <th></th>\n",
       "      <th>Unnamed: 0</th>\n",
       "      <th>InvoiceNo</th>\n",
       "      <th>StockCode</th>\n",
       "      <th>Description</th>\n",
       "      <th>year</th>\n",
       "      <th>Quantity</th>\n",
       "      <th>InvoiceDate</th>\n",
       "      <th>UnitPrice</th>\n",
       "      <th>CustomerID</th>\n",
       "      <th>Country</th>\n",
       "      <th>Total_Amount</th>\n",
       "      <th>Month</th>\n",
       "      <th>Day</th>\n",
       "      <th>Hour</th>\n",
       "      <th>Log_Annual_Spending</th>\n",
       "      <th>Country_Encoded</th>\n",
       "    </tr>\n",
       "  </thead>\n",
       "  <tbody>\n",
       "    <tr>\n",
       "      <th>0</th>\n",
       "      <td>0</td>\n",
       "      <td>536365</td>\n",
       "      <td>85123A</td>\n",
       "      <td>WHITE HANGING HEART T-LIGHT HOLDER</td>\n",
       "      <td>2010</td>\n",
       "      <td>6</td>\n",
       "      <td>2010-12-01 08:26:00</td>\n",
       "      <td>2.55</td>\n",
       "      <td>17850</td>\n",
       "      <td>United Kingdom</td>\n",
       "      <td>15.30</td>\n",
       "      <td>12</td>\n",
       "      <td>1</td>\n",
       "      <td>8</td>\n",
       "      <td>2.791165</td>\n",
       "      <td>35</td>\n",
       "    </tr>\n",
       "    <tr>\n",
       "      <th>1</th>\n",
       "      <td>1</td>\n",
       "      <td>536365</td>\n",
       "      <td>71053</td>\n",
       "      <td>WHITE METAL LANTERN</td>\n",
       "      <td>2010</td>\n",
       "      <td>6</td>\n",
       "      <td>2010-12-01 08:26:00</td>\n",
       "      <td>3.39</td>\n",
       "      <td>17850</td>\n",
       "      <td>United Kingdom</td>\n",
       "      <td>20.34</td>\n",
       "      <td>12</td>\n",
       "      <td>1</td>\n",
       "      <td>8</td>\n",
       "      <td>3.060583</td>\n",
       "      <td>35</td>\n",
       "    </tr>\n",
       "    <tr>\n",
       "      <th>2</th>\n",
       "      <td>2</td>\n",
       "      <td>536365</td>\n",
       "      <td>84406B</td>\n",
       "      <td>CREAM CUPID HEARTS COAT HANGER</td>\n",
       "      <td>2010</td>\n",
       "      <td>8</td>\n",
       "      <td>2010-12-01 08:26:00</td>\n",
       "      <td>2.75</td>\n",
       "      <td>17850</td>\n",
       "      <td>United Kingdom</td>\n",
       "      <td>22.00</td>\n",
       "      <td>12</td>\n",
       "      <td>1</td>\n",
       "      <td>8</td>\n",
       "      <td>3.135494</td>\n",
       "      <td>35</td>\n",
       "    </tr>\n",
       "    <tr>\n",
       "      <th>3</th>\n",
       "      <td>3</td>\n",
       "      <td>536365</td>\n",
       "      <td>84029G</td>\n",
       "      <td>KNITTED UNION FLAG HOT WATER BOTTLE</td>\n",
       "      <td>2010</td>\n",
       "      <td>6</td>\n",
       "      <td>2010-12-01 08:26:00</td>\n",
       "      <td>3.39</td>\n",
       "      <td>17850</td>\n",
       "      <td>United Kingdom</td>\n",
       "      <td>20.34</td>\n",
       "      <td>12</td>\n",
       "      <td>1</td>\n",
       "      <td>8</td>\n",
       "      <td>3.060583</td>\n",
       "      <td>35</td>\n",
       "    </tr>\n",
       "    <tr>\n",
       "      <th>4</th>\n",
       "      <td>4</td>\n",
       "      <td>536365</td>\n",
       "      <td>84029E</td>\n",
       "      <td>RED WOOLLY HOTTIE WHITE HEART.</td>\n",
       "      <td>2010</td>\n",
       "      <td>6</td>\n",
       "      <td>2010-12-01 08:26:00</td>\n",
       "      <td>3.39</td>\n",
       "      <td>17850</td>\n",
       "      <td>United Kingdom</td>\n",
       "      <td>20.34</td>\n",
       "      <td>12</td>\n",
       "      <td>1</td>\n",
       "      <td>8</td>\n",
       "      <td>3.060583</td>\n",
       "      <td>35</td>\n",
       "    </tr>\n",
       "  </tbody>\n",
       "</table>\n",
       "</div>"
      ],
      "text/plain": [
       "   Unnamed: 0  InvoiceNo StockCode                          Description  year  \\\n",
       "0           0     536365    85123A   WHITE HANGING HEART T-LIGHT HOLDER  2010   \n",
       "1           1     536365     71053                  WHITE METAL LANTERN  2010   \n",
       "2           2     536365    84406B       CREAM CUPID HEARTS COAT HANGER  2010   \n",
       "3           3     536365    84029G  KNITTED UNION FLAG HOT WATER BOTTLE  2010   \n",
       "4           4     536365    84029E       RED WOOLLY HOTTIE WHITE HEART.  2010   \n",
       "\n",
       "   Quantity          InvoiceDate  UnitPrice  CustomerID         Country  \\\n",
       "0         6  2010-12-01 08:26:00       2.55       17850  United Kingdom   \n",
       "1         6  2010-12-01 08:26:00       3.39       17850  United Kingdom   \n",
       "2         8  2010-12-01 08:26:00       2.75       17850  United Kingdom   \n",
       "3         6  2010-12-01 08:26:00       3.39       17850  United Kingdom   \n",
       "4         6  2010-12-01 08:26:00       3.39       17850  United Kingdom   \n",
       "\n",
       "   Total_Amount  Month  Day  Hour  Log_Annual_Spending  Country_Encoded  \n",
       "0         15.30     12    1     8             2.791165               35  \n",
       "1         20.34     12    1     8             3.060583               35  \n",
       "2         22.00     12    1     8             3.135494               35  \n",
       "3         20.34     12    1     8             3.060583               35  \n",
       "4         20.34     12    1     8             3.060583               35  "
      ]
     },
     "execution_count": 3,
     "metadata": {},
     "output_type": "execute_result"
    }
   ],
   "source": [
    "df.head()"
   ]
  },
  {
   "cell_type": "code",
   "execution_count": 4,
   "id": "5f2962df",
   "metadata": {},
   "outputs": [
    {
     "data": {
      "text/html": [
       "<div>\n",
       "<style scoped>\n",
       "    .dataframe tbody tr th:only-of-type {\n",
       "        vertical-align: middle;\n",
       "    }\n",
       "\n",
       "    .dataframe tbody tr th {\n",
       "        vertical-align: top;\n",
       "    }\n",
       "\n",
       "    .dataframe thead th {\n",
       "        text-align: right;\n",
       "    }\n",
       "</style>\n",
       "<table border=\"1\" class=\"dataframe\">\n",
       "  <thead>\n",
       "    <tr style=\"text-align: right;\">\n",
       "      <th></th>\n",
       "      <th>StockCode</th>\n",
       "      <th>year</th>\n",
       "      <th>Quantity</th>\n",
       "      <th>InvoiceDate</th>\n",
       "      <th>UnitPrice</th>\n",
       "      <th>totalPrice</th>\n",
       "      <th>Day</th>\n",
       "    </tr>\n",
       "  </thead>\n",
       "  <tbody>\n",
       "    <tr>\n",
       "      <th>0</th>\n",
       "      <td>85123A</td>\n",
       "      <td>2010</td>\n",
       "      <td>6</td>\n",
       "      <td>2010-12-01 08:26:00</td>\n",
       "      <td>2.55</td>\n",
       "      <td>15.30</td>\n",
       "      <td>1</td>\n",
       "    </tr>\n",
       "    <tr>\n",
       "      <th>1</th>\n",
       "      <td>71053</td>\n",
       "      <td>2010</td>\n",
       "      <td>6</td>\n",
       "      <td>2010-12-01 08:26:00</td>\n",
       "      <td>3.39</td>\n",
       "      <td>20.34</td>\n",
       "      <td>1</td>\n",
       "    </tr>\n",
       "    <tr>\n",
       "      <th>2</th>\n",
       "      <td>84406B</td>\n",
       "      <td>2010</td>\n",
       "      <td>8</td>\n",
       "      <td>2010-12-01 08:26:00</td>\n",
       "      <td>2.75</td>\n",
       "      <td>22.00</td>\n",
       "      <td>1</td>\n",
       "    </tr>\n",
       "    <tr>\n",
       "      <th>3</th>\n",
       "      <td>84029G</td>\n",
       "      <td>2010</td>\n",
       "      <td>6</td>\n",
       "      <td>2010-12-01 08:26:00</td>\n",
       "      <td>3.39</td>\n",
       "      <td>20.34</td>\n",
       "      <td>1</td>\n",
       "    </tr>\n",
       "    <tr>\n",
       "      <th>4</th>\n",
       "      <td>84029E</td>\n",
       "      <td>2010</td>\n",
       "      <td>6</td>\n",
       "      <td>2010-12-01 08:26:00</td>\n",
       "      <td>3.39</td>\n",
       "      <td>20.34</td>\n",
       "      <td>1</td>\n",
       "    </tr>\n",
       "  </tbody>\n",
       "</table>\n",
       "</div>"
      ],
      "text/plain": [
       "  StockCode  year  Quantity          InvoiceDate  UnitPrice  totalPrice  Day\n",
       "0    85123A  2010         6  2010-12-01 08:26:00       2.55       15.30    1\n",
       "1     71053  2010         6  2010-12-01 08:26:00       3.39       20.34    1\n",
       "2    84406B  2010         8  2010-12-01 08:26:00       2.75       22.00    1\n",
       "3    84029G  2010         6  2010-12-01 08:26:00       3.39       20.34    1\n",
       "4    84029E  2010         6  2010-12-01 08:26:00       3.39       20.34    1"
      ]
     },
     "execution_count": 4,
     "metadata": {},
     "output_type": "execute_result"
    }
   ],
   "source": [
    "import pandas as pd\n",
    "\n",
    "# Assuming your DataFrame is named 'df'\n",
    "columns_to_drop = ['CustomerID','Unnamed: 0','InvoiceNo','Description' ,'Country', 'Month', 'Hour', 'Log_Annual_Spending', 'Country_Encoded']\n",
    "df = df.drop(columns=columns_to_drop)\n",
    "df = df.rename(columns={'Total_Amount': 'totalPrice'})\n",
    "df.head()"
   ]
  },
  {
   "cell_type": "code",
   "execution_count": 5,
   "id": "98c0ae7d",
   "metadata": {},
   "outputs": [
    {
     "name": "stdout",
     "output_type": "stream",
     "text": [
      "Rows with Negative Quantity:\n",
      "Empty DataFrame\n",
      "Columns: [StockCode, year, Quantity, InvoiceDate, UnitPrice, totalPrice, Day]\n",
      "Index: []\n",
      "\n",
      "Rows with Negative Total Price:\n",
      "Empty DataFrame\n",
      "Columns: [StockCode, year, Quantity, InvoiceDate, UnitPrice, totalPrice, Day]\n",
      "Index: []\n"
     ]
    }
   ],
   "source": [
    "\n",
    "\n",
    "# Filter rows with negative quantity\n",
    "negative_quantity = df[df['Quantity'] < 0]\n",
    "\n",
    "# Filter rows with negative total price\n",
    "negative_total_price = df[df['totalPrice'] < 0]\n",
    "\n",
    "# Display the results\n",
    "print(\"Rows with Negative Quantity:\")\n",
    "print(negative_quantity)\n",
    "\n",
    "print(\"\\nRows with Negative Total Price:\")\n",
    "print(negative_total_price)\n"
   ]
  },
  {
   "cell_type": "code",
   "execution_count": 6,
   "id": "54b03cb6",
   "metadata": {},
   "outputs": [],
   "source": [
    "from scipy import stats\n",
    "\n",
    "# Drop rows with negative Quantity and TotalPrice\n",
    "df = df[(df['Quantity'] > 0) & (df['totalPrice'] > 0)]\n",
    "\n",
    "# Remove outliers in Quantity and TotalPrice using z-scores\n",
    "z_scores = np.abs(stats.zscore(df[['Quantity', 'totalPrice']]))\n",
    "df = df[(z_scores < 3).all(axis=1)]"
   ]
  },
  {
   "cell_type": "code",
   "execution_count": 7,
   "id": "6c55c04a",
   "metadata": {},
   "outputs": [
    {
     "data": {
      "text/html": [
       "<div>\n",
       "<style scoped>\n",
       "    .dataframe tbody tr th:only-of-type {\n",
       "        vertical-align: middle;\n",
       "    }\n",
       "\n",
       "    .dataframe tbody tr th {\n",
       "        vertical-align: top;\n",
       "    }\n",
       "\n",
       "    .dataframe thead th {\n",
       "        text-align: right;\n",
       "    }\n",
       "</style>\n",
       "<table border=\"1\" class=\"dataframe\">\n",
       "  <thead>\n",
       "    <tr style=\"text-align: right;\">\n",
       "      <th></th>\n",
       "      <th>year</th>\n",
       "      <th>Quantity</th>\n",
       "      <th>UnitPrice</th>\n",
       "      <th>totalPrice</th>\n",
       "      <th>Day</th>\n",
       "    </tr>\n",
       "  </thead>\n",
       "  <tbody>\n",
       "    <tr>\n",
       "      <th>count</th>\n",
       "      <td>397281.000000</td>\n",
       "      <td>397281.000000</td>\n",
       "      <td>397281.000000</td>\n",
       "      <td>397281.000000</td>\n",
       "      <td>397281.000000</td>\n",
       "    </tr>\n",
       "    <tr>\n",
       "      <th>mean</th>\n",
       "      <td>2010.934256</td>\n",
       "      <td>11.541189</td>\n",
       "      <td>2.988206</td>\n",
       "      <td>19.909691</td>\n",
       "      <td>15.042796</td>\n",
       "    </tr>\n",
       "    <tr>\n",
       "      <th>std</th>\n",
       "      <td>0.247835</td>\n",
       "      <td>24.871624</td>\n",
       "      <td>6.922949</td>\n",
       "      <td>40.737809</td>\n",
       "      <td>8.653799</td>\n",
       "    </tr>\n",
       "    <tr>\n",
       "      <th>min</th>\n",
       "      <td>2010.000000</td>\n",
       "      <td>1.000000</td>\n",
       "      <td>0.001000</td>\n",
       "      <td>0.001000</td>\n",
       "      <td>1.000000</td>\n",
       "    </tr>\n",
       "    <tr>\n",
       "      <th>25%</th>\n",
       "      <td>2011.000000</td>\n",
       "      <td>2.000000</td>\n",
       "      <td>1.250000</td>\n",
       "      <td>4.680000</td>\n",
       "      <td>7.000000</td>\n",
       "    </tr>\n",
       "    <tr>\n",
       "      <th>50%</th>\n",
       "      <td>2011.000000</td>\n",
       "      <td>6.000000</td>\n",
       "      <td>1.950000</td>\n",
       "      <td>11.800000</td>\n",
       "      <td>15.000000</td>\n",
       "    </tr>\n",
       "    <tr>\n",
       "      <th>75%</th>\n",
       "      <td>2011.000000</td>\n",
       "      <td>12.000000</td>\n",
       "      <td>3.750000</td>\n",
       "      <td>19.800000</td>\n",
       "      <td>22.000000</td>\n",
       "    </tr>\n",
       "    <tr>\n",
       "      <th>max</th>\n",
       "      <td>2011.000000</td>\n",
       "      <td>540.000000</td>\n",
       "      <td>908.160000</td>\n",
       "      <td>944.000000</td>\n",
       "      <td>31.000000</td>\n",
       "    </tr>\n",
       "  </tbody>\n",
       "</table>\n",
       "</div>"
      ],
      "text/plain": [
       "                year       Quantity      UnitPrice     totalPrice  \\\n",
       "count  397281.000000  397281.000000  397281.000000  397281.000000   \n",
       "mean     2010.934256      11.541189       2.988206      19.909691   \n",
       "std         0.247835      24.871624       6.922949      40.737809   \n",
       "min      2010.000000       1.000000       0.001000       0.001000   \n",
       "25%      2011.000000       2.000000       1.250000       4.680000   \n",
       "50%      2011.000000       6.000000       1.950000      11.800000   \n",
       "75%      2011.000000      12.000000       3.750000      19.800000   \n",
       "max      2011.000000     540.000000     908.160000     944.000000   \n",
       "\n",
       "                 Day  \n",
       "count  397281.000000  \n",
       "mean       15.042796  \n",
       "std         8.653799  \n",
       "min         1.000000  \n",
       "25%         7.000000  \n",
       "50%        15.000000  \n",
       "75%        22.000000  \n",
       "max        31.000000  "
      ]
     },
     "execution_count": 7,
     "metadata": {},
     "output_type": "execute_result"
    }
   ],
   "source": [
    "df.describe()"
   ]
  },
  {
   "cell_type": "code",
   "execution_count": 8,
   "id": "a56895fd",
   "metadata": {},
   "outputs": [
    {
     "data": {
      "text/plain": [
       "<Axes: >"
      ]
     },
     "execution_count": 8,
     "metadata": {},
     "output_type": "execute_result"
    },
    {
     "data": {
      "image/png": "[encoded data removed]",
      "text/plain": [
       "<Figure size 1000x1000 with 2 Axes>"
      ]
     },
     "metadata": {},
     "output_type": "display_data"
    }
   ],
   "source": [
    "import seaborn as sns\n",
    "import warnings \n",
    "warnings.filterwarnings('ignore')\n",
    "# correlations of each features in dataset\n",
    "\n",
    "corr = df.corr()\n",
    "plt.figure(figsize=(10,10))\n",
    "sns.heatmap(corr, annot=True, cmap=\"viridis\", vmin= -1, vmax = 1, center = 0)\n",
    "\n",
    "\n",
    "# - 'corr' is the correlation matrix to be visualized.\n",
    "# - 'annot=True' displays the correlation values in each cell of the heatmap.\n",
    "# - 'cmap=\"viridis\"' specifies the color map to use for the heatmap. You can choose other color maps as well.\n",
    "# - 'vmin' and 'vmax' set the minimum and maximum values of the color scale. In this case, it's set to -1 and 1, respectively.\n",
    "# - 'center=0' centers the color scale at 0."
   ]
  },
  {
   "cell_type": "markdown",
   "id": "926f6d27",
   "metadata": {},
   "source": [
    "# '''\n",
    "1: A correlation coefficient of 1 indicates a perfect positive linear relationship between the two variables. This means that as one variable increases, the other also increases, and the relationship is perfectly linear.\n",
    "\n",
    "0: A correlation coefficient of 0 indicates no linear relationship between the two variables. There is no discernible pattern or correlation between them.\n",
    "\n",
    "-1: A correlation coefficient of -1 indicates a perfect negative linear relationship between the two variables. This means that as one variable increases, the other decreases, and the relationship is perfectly linear but in the opposite direction.\n",
    "\n",
    "Values between -1 and 0: These values indicate varying degrees of negative correlation, with values closer to -1 representing stronger negative correlations.\n",
    "\n",
    "Values between 0 and 1: These values indicate varying degrees of positive correlation, with values closer to 1 representing stronger positive correlations.\n",
    "\n",
    "'''"
   ]
  },
  {
   "cell_type": "code",
   "execution_count": 9,
   "id": "b4f86fbc",
   "metadata": {},
   "outputs": [
    {
     "data": {
      "text/plain": [
       "397281"
      ]
     },
     "execution_count": 9,
     "metadata": {},
     "output_type": "execute_result"
    }
   ],
   "source": [
    "len(df)"
   ]
  },
  {
   "cell_type": "code",
   "execution_count": 10,
   "id": "aa7ad29a",
   "metadata": {},
   "outputs": [
    {
     "data": {
      "text/html": [
       "<div>\n",
       "<style scoped>\n",
       "    .dataframe tbody tr th:only-of-type {\n",
       "        vertical-align: middle;\n",
       "    }\n",
       "\n",
       "    .dataframe tbody tr th {\n",
       "        vertical-align: top;\n",
       "    }\n",
       "\n",
       "    .dataframe thead th {\n",
       "        text-align: right;\n",
       "    }\n",
       "</style>\n",
       "<table border=\"1\" class=\"dataframe\">\n",
       "  <thead>\n",
       "    <tr style=\"text-align: right;\">\n",
       "      <th></th>\n",
       "      <th>StockCode</th>\n",
       "      <th>year</th>\n",
       "      <th>Quantity</th>\n",
       "      <th>InvoiceDate</th>\n",
       "      <th>UnitPrice</th>\n",
       "      <th>totalPrice</th>\n",
       "      <th>Day</th>\n",
       "    </tr>\n",
       "  </thead>\n",
       "  <tbody>\n",
       "    <tr>\n",
       "      <th>0</th>\n",
       "      <td>85123A</td>\n",
       "      <td>2010</td>\n",
       "      <td>6</td>\n",
       "      <td>2010-12-01 08:26:00</td>\n",
       "      <td>2.55</td>\n",
       "      <td>15.30</td>\n",
       "      <td>1</td>\n",
       "    </tr>\n",
       "    <tr>\n",
       "      <th>1</th>\n",
       "      <td>71053</td>\n",
       "      <td>2010</td>\n",
       "      <td>6</td>\n",
       "      <td>2010-12-01 08:26:00</td>\n",
       "      <td>3.39</td>\n",
       "      <td>20.34</td>\n",
       "      <td>1</td>\n",
       "    </tr>\n",
       "    <tr>\n",
       "      <th>2</th>\n",
       "      <td>84406B</td>\n",
       "      <td>2010</td>\n",
       "      <td>8</td>\n",
       "      <td>2010-12-01 08:26:00</td>\n",
       "      <td>2.75</td>\n",
       "      <td>22.00</td>\n",
       "      <td>1</td>\n",
       "    </tr>\n",
       "    <tr>\n",
       "      <th>3</th>\n",
       "      <td>84029G</td>\n",
       "      <td>2010</td>\n",
       "      <td>6</td>\n",
       "      <td>2010-12-01 08:26:00</td>\n",
       "      <td>3.39</td>\n",
       "      <td>20.34</td>\n",
       "      <td>1</td>\n",
       "    </tr>\n",
       "    <tr>\n",
       "      <th>4</th>\n",
       "      <td>84029E</td>\n",
       "      <td>2010</td>\n",
       "      <td>6</td>\n",
       "      <td>2010-12-01 08:26:00</td>\n",
       "      <td>3.39</td>\n",
       "      <td>20.34</td>\n",
       "      <td>1</td>\n",
       "    </tr>\n",
       "  </tbody>\n",
       "</table>\n",
       "</div>"
      ],
      "text/plain": [
       "  StockCode  year  Quantity          InvoiceDate  UnitPrice  totalPrice  Day\n",
       "0    85123A  2010         6  2010-12-01 08:26:00       2.55       15.30    1\n",
       "1     71053  2010         6  2010-12-01 08:26:00       3.39       20.34    1\n",
       "2    84406B  2010         8  2010-12-01 08:26:00       2.75       22.00    1\n",
       "3    84029G  2010         6  2010-12-01 08:26:00       3.39       20.34    1\n",
       "4    84029E  2010         6  2010-12-01 08:26:00       3.39       20.34    1"
      ]
     },
     "execution_count": 10,
     "metadata": {},
     "output_type": "execute_result"
    }
   ],
   "source": [
    "df.head()"
   ]
  },
  {
   "cell_type": "markdown",
   "id": "0d664f3b",
   "metadata": {},
   "source": [
    "## TRAIN TEST SPLIT"
   ]
  },
  {
   "cell_type": "code",
   "execution_count": 11,
   "id": "7a021d52",
   "metadata": {},
   "outputs": [],
   "source": [
    "# so my strategy is that i'll hold the data for last month i.e., 2011-11-01 to 2011-12-01 for test set, and remaining will be train set\n",
    "\n",
    "df_train = df[df.InvoiceDate<\"2011-11-01\"]\n",
    "df_test = df[df.InvoiceDate>=\"2011-11-01\"]"
   ]
  },
  {
   "cell_type": "code",
   "execution_count": 12,
   "id": "3c46c650",
   "metadata": {},
   "outputs": [
    {
     "name": "stdout",
     "output_type": "stream",
     "text": [
      "81759\n",
      "315522\n"
     ]
    }
   ],
   "source": [
    "print(len(df_test))\n",
    "print(len(df_train))"
   ]
  },
  {
   "cell_type": "code",
   "execution_count": 13,
   "id": "31b237ff",
   "metadata": {},
   "outputs": [],
   "source": [
    "# Define the feature and target variables for training and test sets\n",
    "x_train = df_train.drop(['InvoiceDate', 'StockCode', 'totalPrice', 'Quantity'], axis=1)\n",
    "y_train = df_train['Quantity']\n",
    "\n",
    "x_test = df_test.drop(['InvoiceDate', 'StockCode', 'totalPrice', 'Quantity'], axis=1)\n",
    "y_test = df_test['Quantity']\n"
   ]
  },
  {
   "cell_type": "markdown",
   "id": "99731ff0",
   "metadata": {},
   "source": [
    "# predictive model building"
   ]
  },
  {
   "cell_type": "code",
   "execution_count": 14,
   "id": "861a1be6",
   "metadata": {},
   "outputs": [],
   "source": [
    "from sklearn.model_selection import train_test_split\n",
    "from sklearn.linear_model import LinearRegression\n",
    "from sklearn.ensemble import RandomForestRegressor\n",
    "from sklearn.tree import DecisionTreeRegressor"
   ]
  },
  {
   "cell_type": "code",
   "execution_count": 15,
   "id": "0ed3d224",
   "metadata": {},
   "outputs": [
    {
     "data": {
      "text/html": [
       "<div>\n",
       "<style scoped>\n",
       "    .dataframe tbody tr th:only-of-type {\n",
       "        vertical-align: middle;\n",
       "    }\n",
       "\n",
       "    .dataframe tbody tr th {\n",
       "        vertical-align: top;\n",
       "    }\n",
       "\n",
       "    .dataframe thead th {\n",
       "        text-align: right;\n",
       "    }\n",
       "</style>\n",
       "<table border=\"1\" class=\"dataframe\">\n",
       "  <thead>\n",
       "    <tr style=\"text-align: right;\">\n",
       "      <th></th>\n",
       "      <th>Quantity</th>\n",
       "      <th>UnitPrice</th>\n",
       "      <th>year</th>\n",
       "    </tr>\n",
       "  </thead>\n",
       "  <tbody>\n",
       "    <tr>\n",
       "      <th>29364</th>\n",
       "      <td>24</td>\n",
       "      <td>0.19</td>\n",
       "      <td>2011</td>\n",
       "    </tr>\n",
       "    <tr>\n",
       "      <th>119698</th>\n",
       "      <td>1</td>\n",
       "      <td>2.95</td>\n",
       "      <td>2011</td>\n",
       "    </tr>\n",
       "    <tr>\n",
       "      <th>230059</th>\n",
       "      <td>1</td>\n",
       "      <td>2.55</td>\n",
       "      <td>2011</td>\n",
       "    </tr>\n",
       "    <tr>\n",
       "      <th>215448</th>\n",
       "      <td>3</td>\n",
       "      <td>0.39</td>\n",
       "      <td>2011</td>\n",
       "    </tr>\n",
       "    <tr>\n",
       "      <th>275261</th>\n",
       "      <td>12</td>\n",
       "      <td>1.65</td>\n",
       "      <td>2011</td>\n",
       "    </tr>\n",
       "    <tr>\n",
       "      <th>...</th>\n",
       "      <td>...</td>\n",
       "      <td>...</td>\n",
       "      <td>...</td>\n",
       "    </tr>\n",
       "    <tr>\n",
       "      <th>317275</th>\n",
       "      <td>2</td>\n",
       "      <td>6.25</td>\n",
       "      <td>2011</td>\n",
       "    </tr>\n",
       "    <tr>\n",
       "      <th>319459</th>\n",
       "      <td>2</td>\n",
       "      <td>4.95</td>\n",
       "      <td>2011</td>\n",
       "    </tr>\n",
       "    <tr>\n",
       "      <th>355914</th>\n",
       "      <td>10</td>\n",
       "      <td>1.45</td>\n",
       "      <td>2011</td>\n",
       "    </tr>\n",
       "    <tr>\n",
       "      <th>293390</th>\n",
       "      <td>36</td>\n",
       "      <td>1.04</td>\n",
       "      <td>2011</td>\n",
       "    </tr>\n",
       "    <tr>\n",
       "      <th>375610</th>\n",
       "      <td>1</td>\n",
       "      <td>4.13</td>\n",
       "      <td>2011</td>\n",
       "    </tr>\n",
       "  </tbody>\n",
       "</table>\n",
       "<p>317824 rows × 3 columns</p>\n",
       "</div>"
      ],
      "text/plain": [
       "        Quantity  UnitPrice  year\n",
       "29364         24       0.19  2011\n",
       "119698         1       2.95  2011\n",
       "230059         1       2.55  2011\n",
       "215448         3       0.39  2011\n",
       "275261        12       1.65  2011\n",
       "...          ...        ...   ...\n",
       "317275         2       6.25  2011\n",
       "319459         2       4.95  2011\n",
       "355914        10       1.45  2011\n",
       "293390        36       1.04  2011\n",
       "375610         1       4.13  2011\n",
       "\n",
       "[317824 rows x 3 columns]"
      ]
     },
     "execution_count": 15,
     "metadata": {},
     "output_type": "execute_result"
    }
   ],
   "source": [
    "x = df[['Quantity', 'UnitPrice','year', ]]\n",
    "y = df['totalPrice']\n",
    "x_train,x_test,y_train,y_test=train_test_split(x,y,test_size=0.2,random_state=40)\n",
    "x_train"
   ]
  },
  {
   "cell_type": "code",
   "execution_count": 16,
   "id": "49b31d5b",
   "metadata": {},
   "outputs": [
    {
     "data": {
      "text/plain": [
       "(317824, 3)"
      ]
     },
     "execution_count": 16,
     "metadata": {},
     "output_type": "execute_result"
    }
   ],
   "source": [
    "x_train.shape"
   ]
  },
  {
   "cell_type": "code",
   "execution_count": 17,
   "id": "345e4934",
   "metadata": {},
   "outputs": [
    {
     "data": {
      "text/plain": [
       "(79457, 3)"
      ]
     },
     "execution_count": 17,
     "metadata": {},
     "output_type": "execute_result"
    }
   ],
   "source": [
    "x_test.shape"
   ]
  },
  {
   "cell_type": "code",
   "execution_count": 18,
   "id": "cc8346db",
   "metadata": {},
   "outputs": [
    {
     "data": {
      "text/plain": [
       "(317824,)"
      ]
     },
     "execution_count": 18,
     "metadata": {},
     "output_type": "execute_result"
    }
   ],
   "source": [
    "y_train.shape"
   ]
  },
  {
   "cell_type": "code",
   "execution_count": 19,
   "id": "e49059bb",
   "metadata": {},
   "outputs": [
    {
     "data": {
      "text/plain": [
       "(79457,)"
      ]
     },
     "execution_count": 19,
     "metadata": {},
     "output_type": "execute_result"
    }
   ],
   "source": [
    "y_test.shape"
   ]
  },
  {
   "cell_type": "code",
   "execution_count": 21,
   "id": "63eaf924",
   "metadata": {},
   "outputs": [
    {
     "name": "stdout",
     "output_type": "stream",
     "text": [
      "Model: Linear Regression\n",
      "Train RMSE: 28.69\n",
      "Test RMSE: 27.52\n",
      "\n",
      "Model: Decision Tree Regressor\n",
      "Train RMSE: 0.00\n",
      "Test RMSE: 1.47\n",
      "\n",
      "Model: Random Forest Regressor\n",
      "Train RMSE: 0.47\n",
      "Test RMSE: 1.13\n",
      "\n"
     ]
    }
   ],
   "source": [
    "from sklearn.linear_model import LinearRegression\n",
    "from sklearn.tree import DecisionTreeRegressor\n",
    "from sklearn.ensemble import RandomForestRegressor\n",
    "from sklearn.metrics import mean_squared_error\n",
    "\n",
    "# Define an evaluate_model function\n",
    "def evaluate_model(model_name, y_train_true, y_train_pred, y_test_true, y_test_pred):\n",
    "    train_rmse = mean_squared_error(y_train_true, y_train_pred, squared=False)\n",
    "    test_rmse = mean_squared_error(y_test_true, y_test_pred, squared=False)\n",
    "    print(f\"Model: {model_name}\")\n",
    "    print(f\"Train RMSE: {train_rmse:.2f}\")\n",
    "    print(f\"Test RMSE: {test_rmse:.2f}\")\n",
    "    print()\n",
    "\n",
    "# Assuming you have x_train, y_train, x_test defined somewhere in your code\n",
    "\n",
    "# Linear Regression\n",
    "linear_r = LinearRegression()\n",
    "y_train_linear_r, y_test_linear_r = train_and_predict(linear_r, x_train, y_train, x_test)\n",
    "\n",
    "# Decision Tree\n",
    "decision_tree = DecisionTreeRegressor(random_state=40)\n",
    "y_train_decision_tree, y_test_decision_tree = train_and_predict(decision_tree, x_train, y_train, x_test)\n",
    "\n",
    "# Random Forest\n",
    "rfr = RandomForestRegressor(random_state=40)\n",
    "y_train_rfr, y_test_rfr = train_and_predict(rfr, x_train, y_train, x_test)\n",
    "\n",
    "# Call the evaluate_model function with the correct variables\n",
    "evaluate_model(\"Linear Regression\", y_train, y_train_linear_r, y_test, y_test_linear_r)\n",
    "evaluate_model(\"Decision Tree Regressor\", y_train, y_train_decision_tree, y_test, y_test_decision_tree)\n",
    "evaluate_model(\"Random Forest Regressor\", y_train, y_train_rfr, y_test, y_test_rfr)\n"
   ]
  },
  {
   "cell_type": "code",
   "execution_count": 22,
   "id": "7d04f4cd-1765-4a25-a632-da35f30bb1bb",
   "metadata": {},
   "outputs": [
    {
     "name": "stdout",
     "output_type": "stream",
     "text": [
      "Accuracy on Testing Data Set\n",
      "Linear Regression Train Accuracy: 0.5118482569532288\n",
      "Linear Regression Test Accuracy: 0.5117344034187881\n",
      "Decision Tree Train Accuracy: 1.0\n",
      "Decision Tree Test Accuracy: 0.9986083928467826\n",
      "Random Forest Train Accuracy: 0.9998668756396247\n",
      "Random Forest Test Accuracy: 0.9991795553866724\n"
     ]
    }
   ],
   "source": [
    "# Linear Regression\n",
    "linear_r = LinearRegression()\n",
    "y_train_linear_r, y_test_linear_r = train_and_predict(linear_r, x_train, y_train, x_test)\n",
    "linear_r_train_accuracy = linear_r.score(x_train, y_train)\n",
    "linear_r_test_accuracy = linear_r.score(x_test, y_test)\n",
    "\n",
    "# Decision Tree\n",
    "decision_tree = DecisionTreeRegressor(random_state=40)\n",
    "y_train_decision_tree, y_test_decision_tree = train_and_predict(decision_tree, x_train, y_train, x_test)\n",
    "decision_tree_train_accuracy = decision_tree.score(x_train, y_train)\n",
    "decision_tree_test_accuracy = decision_tree.score(x_test, y_test)\n",
    "\n",
    "# Random Forest\n",
    "rfr = RandomForestRegressor(random_state=40)\n",
    "y_train_rfr, y_test_rfr = train_and_predict(rfr, x_train, y_train, x_test)\n",
    "rfr_train_accuracy = rfr.score(x_train, y_train)\n",
    "rfr_test_accuracy = rfr.score(x_test, y_test)\n",
    "\n",
    "# Print the accuracies\n",
    "print(\"Accuracy on Testing Data Set\")\n",
    "print(\"Linear Regression Train Accuracy:\", linear_r_train_accuracy)\n",
    "print(\"Linear Regression Test Accuracy:\", linear_r_test_accuracy)\n",
    "\n",
    "print(\"Decision Tree Train Accuracy:\", decision_tree_train_accuracy)\n",
    "print(\"Decision Tree Test Accuracy:\", decision_tree_test_accuracy)\n",
    "\n",
    "print(\"Random Forest Train Accuracy:\", rfr_train_accuracy)\n",
    "print(\"Random Forest Test Accuracy:\", rfr_test_accuracy)\n"
   ]
  },
  {
   "cell_type": "markdown",
   "id": "ba9041e4",
   "metadata": {},
   "source": [
    "# Model evaluation and customer segmentation"
   ]
  },
  {
   "cell_type": "markdown",
   "id": "526f8357",
   "metadata": {},
   "source": [
    "#### Linear Regression, Decision Tree Regressor, Random Forest Regressor"
   ]
  },
  {
   "cell_type": "code",
   "execution_count": 23,
   "id": "eb35ce3a",
   "metadata": {},
   "outputs": [],
   "source": [
    "from sklearn.metrics import accuracy_score\n",
    "\n",
    "# Linear Regression\n",
    "linear_r = LinearRegression()\n",
    "y_train_linear_r, y_test_linear_r = train_and_predict(linear_r, x_train, y_train, x_test)\n",
    "linear_r_test_accuracy = linear_r.score(x_test, y_test)\n",
    "\n",
    "# Decision Tree\n",
    "decision_tree = DecisionTreeRegressor(random_state=40)\n",
    "y_train_decision_tree, y_test_decision_tree = train_and_predict(decision_tree, x_train, y_train, x_test)\n",
    "decision_tree_test_accuracy = decision_tree.score(x_test, y_test)\n",
    "\n",
    "# Random Forest\n",
    "rfr = RandomForestRegressor(random_state=40)\n",
    "y_train_rfr, y_test_rfr = train_and_predict(rfr, x_train, y_train, x_test)\n",
    "rfr_test_accuracy = rfr.score(x_test, y_test)\n"
   ]
  },
  {
   "cell_type": "markdown",
   "id": "bcc537b0",
   "metadata": {},
   "source": [
    "### Accuracy on testing dataset"
   ]
  },
  {
   "cell_type": "code",
   "execution_count": 24,
   "id": "fe8d672c",
   "metadata": {},
   "outputs": [
    {
     "name": "stdout",
     "output_type": "stream",
     "text": [
      "Accuracy on Testing Data Set\n",
      "Linear Regression: 0.5117344034187881\n",
      "Decision Tree Regressor: 0.9986083928467826\n",
      "Random Forest Regressor: 0.9991795553866724\n"
     ]
    }
   ],
   "source": [
    "print(\"Accuracy on Testing Data Set\")\n",
    "print(\"Linear Regression:\", linear_r.score(x_test, y_test))\n",
    "print(\"Decision Tree Regressor:\", decision_tree.score(x_test, y_test))\n",
    "print(\"Random Forest Regressor:\", rfr.score(x_test, y_test))"
   ]
  },
  {
   "cell_type": "markdown",
   "id": "18121bc2",
   "metadata": {},
   "source": [
    "## Customer segmentation"
   ]
  },
  {
   "cell_type": "markdown",
   "id": "0ccddfb3",
   "metadata": {},
   "source": [
    "# '''\n",
    "Customer segmentation is a valuable technique for understanding your customer base and tailoring your marketing and business strategies to different segments. In your case, you can create customer segments based on their purchase behavior using the dataset you have. Here's a general approach and sample code using Python and the scikit-learn library:\n",
    "\n",
    "Feature Engineering: First, you may want to create relevant features for segmentation. For customer segmentation based on purchase behavior, common features include:\n",
    "\n",
    "Recency (R): How recently a customer made a purchase.\n",
    "Frequency (F): How often a customer makes a purchase.\n",
    "Monetary Value (M): How much money a customer has spent.\n",
    "K-Means Clustering: K-means is a popular clustering algorithm that can be used for customer segmentation. It groups similar customers into clusters based on their RFM scores.\n",
    "'''"
   ]
  },
  {
   "cell_type": "code",
   "execution_count": 32,
   "id": "a8152fb8",
   "metadata": {},
   "outputs": [
    {
     "data": {
      "text/html": [
       "<div>\n",
       "<style scoped>\n",
       "    .dataframe tbody tr th:only-of-type {\n",
       "        vertical-align: middle;\n",
       "    }\n",
       "\n",
       "    .dataframe tbody tr th {\n",
       "        vertical-align: top;\n",
       "    }\n",
       "\n",
       "    .dataframe thead th {\n",
       "        text-align: right;\n",
       "    }\n",
       "</style>\n",
       "<table border=\"1\" class=\"dataframe\">\n",
       "  <thead>\n",
       "    <tr style=\"text-align: right;\">\n",
       "      <th></th>\n",
       "      <th>Unnamed: 0</th>\n",
       "      <th>InvoiceNo</th>\n",
       "      <th>StockCode</th>\n",
       "      <th>Description</th>\n",
       "      <th>year</th>\n",
       "      <th>Quantity</th>\n",
       "      <th>InvoiceDate</th>\n",
       "      <th>UnitPrice</th>\n",
       "      <th>CustomerID</th>\n",
       "      <th>Country</th>\n",
       "      <th>Total_Amount</th>\n",
       "      <th>Month</th>\n",
       "      <th>Day</th>\n",
       "      <th>Hour</th>\n",
       "      <th>Log_Annual_Spending</th>\n",
       "      <th>Country_Encoded</th>\n",
       "    </tr>\n",
       "  </thead>\n",
       "  <tbody>\n",
       "    <tr>\n",
       "      <th>0</th>\n",
       "      <td>0</td>\n",
       "      <td>536365</td>\n",
       "      <td>85123A</td>\n",
       "      <td>WHITE HANGING HEART T-LIGHT HOLDER</td>\n",
       "      <td>2010</td>\n",
       "      <td>6</td>\n",
       "      <td>2010-12-01 08:26:00</td>\n",
       "      <td>2.55</td>\n",
       "      <td>17850</td>\n",
       "      <td>United Kingdom</td>\n",
       "      <td>15.30</td>\n",
       "      <td>12</td>\n",
       "      <td>1</td>\n",
       "      <td>8</td>\n",
       "      <td>2.791165</td>\n",
       "      <td>35</td>\n",
       "    </tr>\n",
       "    <tr>\n",
       "      <th>1</th>\n",
       "      <td>1</td>\n",
       "      <td>536365</td>\n",
       "      <td>71053</td>\n",
       "      <td>WHITE METAL LANTERN</td>\n",
       "      <td>2010</td>\n",
       "      <td>6</td>\n",
       "      <td>2010-12-01 08:26:00</td>\n",
       "      <td>3.39</td>\n",
       "      <td>17850</td>\n",
       "      <td>United Kingdom</td>\n",
       "      <td>20.34</td>\n",
       "      <td>12</td>\n",
       "      <td>1</td>\n",
       "      <td>8</td>\n",
       "      <td>3.060583</td>\n",
       "      <td>35</td>\n",
       "    </tr>\n",
       "    <tr>\n",
       "      <th>2</th>\n",
       "      <td>2</td>\n",
       "      <td>536365</td>\n",
       "      <td>84406B</td>\n",
       "      <td>CREAM CUPID HEARTS COAT HANGER</td>\n",
       "      <td>2010</td>\n",
       "      <td>8</td>\n",
       "      <td>2010-12-01 08:26:00</td>\n",
       "      <td>2.75</td>\n",
       "      <td>17850</td>\n",
       "      <td>United Kingdom</td>\n",
       "      <td>22.00</td>\n",
       "      <td>12</td>\n",
       "      <td>1</td>\n",
       "      <td>8</td>\n",
       "      <td>3.135494</td>\n",
       "      <td>35</td>\n",
       "    </tr>\n",
       "    <tr>\n",
       "      <th>3</th>\n",
       "      <td>3</td>\n",
       "      <td>536365</td>\n",
       "      <td>84029G</td>\n",
       "      <td>KNITTED UNION FLAG HOT WATER BOTTLE</td>\n",
       "      <td>2010</td>\n",
       "      <td>6</td>\n",
       "      <td>2010-12-01 08:26:00</td>\n",
       "      <td>3.39</td>\n",
       "      <td>17850</td>\n",
       "      <td>United Kingdom</td>\n",
       "      <td>20.34</td>\n",
       "      <td>12</td>\n",
       "      <td>1</td>\n",
       "      <td>8</td>\n",
       "      <td>3.060583</td>\n",
       "      <td>35</td>\n",
       "    </tr>\n",
       "    <tr>\n",
       "      <th>4</th>\n",
       "      <td>4</td>\n",
       "      <td>536365</td>\n",
       "      <td>84029E</td>\n",
       "      <td>RED WOOLLY HOTTIE WHITE HEART.</td>\n",
       "      <td>2010</td>\n",
       "      <td>6</td>\n",
       "      <td>2010-12-01 08:26:00</td>\n",
       "      <td>3.39</td>\n",
       "      <td>17850</td>\n",
       "      <td>United Kingdom</td>\n",
       "      <td>20.34</td>\n",
       "      <td>12</td>\n",
       "      <td>1</td>\n",
       "      <td>8</td>\n",
       "      <td>3.060583</td>\n",
       "      <td>35</td>\n",
       "    </tr>\n",
       "  </tbody>\n",
       "</table>\n",
       "</div>"
      ],
      "text/plain": [
       "   Unnamed: 0  InvoiceNo StockCode                          Description  year  \\\n",
       "0           0     536365    85123A   WHITE HANGING HEART T-LIGHT HOLDER  2010   \n",
       "1           1     536365     71053                  WHITE METAL LANTERN  2010   \n",
       "2           2     536365    84406B       CREAM CUPID HEARTS COAT HANGER  2010   \n",
       "3           3     536365    84029G  KNITTED UNION FLAG HOT WATER BOTTLE  2010   \n",
       "4           4     536365    84029E       RED WOOLLY HOTTIE WHITE HEART.  2010   \n",
       "\n",
       "   Quantity          InvoiceDate  UnitPrice  CustomerID         Country  \\\n",
       "0         6  2010-12-01 08:26:00       2.55       17850  United Kingdom   \n",
       "1         6  2010-12-01 08:26:00       3.39       17850  United Kingdom   \n",
       "2         8  2010-12-01 08:26:00       2.75       17850  United Kingdom   \n",
       "3         6  2010-12-01 08:26:00       3.39       17850  United Kingdom   \n",
       "4         6  2010-12-01 08:26:00       3.39       17850  United Kingdom   \n",
       "\n",
       "   Total_Amount  Month  Day  Hour  Log_Annual_Spending  Country_Encoded  \n",
       "0         15.30     12    1     8             2.791165               35  \n",
       "1         20.34     12    1     8             3.060583               35  \n",
       "2         22.00     12    1     8             3.135494               35  \n",
       "3         20.34     12    1     8             3.060583               35  \n",
       "4         20.34     12    1     8             3.060583               35  "
      ]
     },
     "execution_count": 32,
     "metadata": {},
     "output_type": "execute_result"
    }
   ],
   "source": [
    "df = pd.read_csv('edata.csv')\n",
    "df.head(5)"
   ]
  },
  {
   "cell_type": "code",
   "execution_count": 63,
   "id": "86176d14",
   "metadata": {},
   "outputs": [
    {
     "data": {
      "text/html": [
       "<div>\n",
       "<style scoped>\n",
       "    .dataframe tbody tr th:only-of-type {\n",
       "        vertical-align: middle;\n",
       "    }\n",
       "\n",
       "    .dataframe tbody tr th {\n",
       "        vertical-align: top;\n",
       "    }\n",
       "\n",
       "    .dataframe thead th {\n",
       "        text-align: right;\n",
       "    }\n",
       "</style>\n",
       "<table border=\"1\" class=\"dataframe\">\n",
       "  <thead>\n",
       "    <tr style=\"text-align: right;\">\n",
       "      <th></th>\n",
       "      <th>Recency</th>\n",
       "      <th>Frequency</th>\n",
       "      <th>MonetaryValue</th>\n",
       "    </tr>\n",
       "    <tr>\n",
       "      <th>CustomerID</th>\n",
       "      <th></th>\n",
       "      <th></th>\n",
       "      <th></th>\n",
       "    </tr>\n",
       "  </thead>\n",
       "  <tbody>\n",
       "    <tr>\n",
       "      <th>12346</th>\n",
       "      <td>325</td>\n",
       "      <td>1</td>\n",
       "      <td>77183.60</td>\n",
       "    </tr>\n",
       "    <tr>\n",
       "      <th>12347</th>\n",
       "      <td>1</td>\n",
       "      <td>7</td>\n",
       "      <td>4310.00</td>\n",
       "    </tr>\n",
       "    <tr>\n",
       "      <th>12348</th>\n",
       "      <td>74</td>\n",
       "      <td>4</td>\n",
       "      <td>1797.24</td>\n",
       "    </tr>\n",
       "    <tr>\n",
       "      <th>12349</th>\n",
       "      <td>18</td>\n",
       "      <td>1</td>\n",
       "      <td>1757.55</td>\n",
       "    </tr>\n",
       "    <tr>\n",
       "      <th>12350</th>\n",
       "      <td>309</td>\n",
       "      <td>1</td>\n",
       "      <td>334.40</td>\n",
       "    </tr>\n",
       "  </tbody>\n",
       "</table>\n",
       "</div>"
      ],
      "text/plain": [
       "            Recency  Frequency  MonetaryValue\n",
       "CustomerID                                   \n",
       "12346           325          1       77183.60\n",
       "12347             1          7        4310.00\n",
       "12348            74          4        1797.24\n",
       "12349            18          1        1757.55\n",
       "12350           309          1         334.40"
      ]
     },
     "execution_count": 63,
     "metadata": {},
     "output_type": "execute_result"
    }
   ],
   "source": [
    "import seaborn as sns\n",
    "from sklearn.cluster import KMeans, AgglomerativeClustering\n",
    "from sklearn.preprocessing import StandardScaler\n",
    "\n",
    "# Standardize the data\n",
    "scaler = StandardScaler()\n",
    "\n",
    "# Rename columns\n",
    "new_column_name = {'TotalSpending_AnnualSpending': 'Annual_Spending'}\n",
    "df.rename(columns=new_column_name, inplace=True)\n",
    "\n",
    "# Find the most recent date\n",
    "most_recent_date = df['InvoiceDate'].max()\n",
    "\n",
    "# Calculate Recency, Frequency, and MonetaryValue\n",
    "rfm_data = df.groupby('CustomerID').agg({\n",
    "    'InvoiceDate': lambda x: (most_recent_date - x.max()).days,\n",
    "    'InvoiceNo': 'nunique',\n",
    "    'Total_Amount': 'sum'\n",
    "})\n",
    "\n",
    "# Rename columns\n",
    "rfm_data.rename(columns={\n",
    "    'InvoiceDate': 'Recency',\n",
    "    'InvoiceNo': 'Frequency',\n",
    "    'Total_Amount': 'MonetaryValue'\n",
    "}, inplace=True)\n",
    "\n",
    "# Standardize the data\n",
    "segmentation_data = rfm_data[['Recency', 'Frequency', 'MonetaryValue']]\n",
    "segmentation_data_std = scaler.fit_transform(segmentation_data)\n",
    "\n",
    "# Display the first few rows of the DataFrame\n",
    "rfm_data.head()\n"
   ]
  },
  {
   "cell_type": "code",
   "execution_count": 58,
   "id": "2bdf1e05",
   "metadata": {},
   "outputs": [
    {
     "data": {
      "image/png": "[encoded data removed]",
      "text/plain": [
       "<Figure size 800x400 with 1 Axes>"
      ]
     },
     "metadata": {},
     "output_type": "display_data"
    }
   ],
   "source": [
    "from sklearn.cluster import KMeans\n",
    "import matplotlib.pyplot as plt\n",
    "\n",
    "wcss = []\n",
    "\n",
    "for i in range(1, 11):\n",
    "    kmeans = KMeans(n_clusters=i, init='k-means++', random_state=42)\n",
    "    kmeans.fit(segmentation_data_std)\n",
    "    wcss.append(kmeans.inertia_)\n",
    "\n",
    "# Plot the Elbow method graph\n",
    "plt.figure(figsize=(8, 4))\n",
    "plt.plot(range(1, 11), wcss, marker='o', linestyle='--')\n",
    "plt.title('Elbow Method')\n",
    "plt.xlabel('Number of Clusters (K)')\n",
    "plt.ylabel('WCSS')\n",
    "plt.show()\n"
   ]
  },
  {
   "cell_type": "markdown",
   "id": "f91f308a",
   "metadata": {},
   "source": [
    "# '''\n",
    "1. Based on the Elbow method plot, choose an optimal K (number of clusters). You can visually inspect the plot to determine the \"elbow\" point, where the inertia starts to level off.\n",
    "'''"
   ]
  },
  {
   "cell_type": "markdown",
   "id": "97d8ba86",
   "metadata": {},
   "source": [
    "# '''\n",
    "2. Apply K-means clustering with the chosen K:\n",
    "\n",
    "'''"
   ]
  },
  {
   "cell_type": "code",
   "execution_count": 60,
   "id": "f6c8f367",
   "metadata": {},
   "outputs": [],
   "source": [
    "# Apply K-means clustering with the chosen K\n",
    "optimal_k = 3  # Replace with your chosen K\n",
    "kmeans = KMeans(n_clusters=optimal_k, random_state=42)\n",
    "rfm_data['Cluster'] = kmeans.fit_predict(rfm_scaled)\n"
   ]
  },
  {
   "cell_type": "code",
   "execution_count": 62,
   "id": "95c61d7d",
   "metadata": {},
   "outputs": [
    {
     "name": "stdout",
     "output_type": "stream",
     "text": [
      "         Recency  Frequency  MonetaryValue\n",
      "Cluster                                   \n",
      "0           1080   1.598148     636.501112\n",
      "1           3246   4.861676    2028.480799\n",
      "2             13  79.153846  126118.310000\n"
     ]
    }
   ],
   "source": [
    "# Analyze the clusters\n",
    "cluster_summary = rfm_data.groupby('Cluster').agg({\n",
    "    'Recency': 'mean',\n",
    "    'Frequency': 'mean',\n",
    "    'MonetaryValue': 'mean',\n",
    "    'Recency': 'count'  # Replace 'CustomerID' with 'Recency'\n",
    "})\n",
    "print(cluster_summary)\n"
   ]
  },
  {
   "cell_type": "code",
   "execution_count": 64,
   "id": "55f3a0f6",
   "metadata": {},
   "outputs": [
    {
     "data": {
      "image/png": "[encoded data removed]",
      "text/plain": [
       "<Figure size 1000x700 with 1 Axes>"
      ]
     },
     "metadata": {},
     "output_type": "display_data"
    }
   ],
   "source": [
    "fig=plt.figure(figsize=(10,7))\n",
    "ax=fig.add_subplot(111,projection='3d')\n",
    "xs=rfm_data.Recency\n",
    "ys=rfm_data.Frequency\n",
    "zs=rfm_data.MonetaryValue\n",
    "ax.scatter(xs,ys,zs,s=5)\n",
    "ax.set_xlabel('Recency')\n",
    "ax.set_ylabel('Frequency')\n",
    "ax.set_zlabel('MontrealValue')\n",
    "plt.show()"
   ]
  },
  {
   "cell_type": "code",
   "execution_count": 66,
   "id": "b35e2600",
   "metadata": {},
   "outputs": [
    {
     "name": "stdout",
     "output_type": "stream",
     "text": [
      "         Number of Customers in Cluster  Average Frequency  \\\n",
      "Cluster                                                      \n",
      "0                                  3231           4.671928   \n",
      "1                                  1082           1.582255   \n",
      "2                                    26          66.500000   \n",
      "\n",
      "         Average Monetary Value  \n",
      "Cluster                          \n",
      "0                   1855.367927  \n",
      "1                    631.424206  \n",
      "2                  85904.351538  \n"
     ]
    }
   ],
   "source": [
    "# Apply K-means clustering with the chosen K\n",
    "kmeans = KMeans(n_clusters=optimal_k, random_state=42)\n",
    "rfm_data['Cluster'] = kmeans.fit_predict(segmentation_data_std)\n",
    "\n",
    "\n",
    "# Analyze the clusters\n",
    "cluster_summary = rfm_data.groupby('Cluster').agg({\n",
    "    'Recency': 'mean',\n",
    "    'Frequency': 'mean',\n",
    "    'MonetaryValue': 'mean',\n",
    "    'Recency': 'count'  # Replace 'CustomerID' with 'Recency'\n",
    "})\n",
    "\n",
    "# Rename the columns for clarity\n",
    "cluster_summary.rename(columns={\n",
    "    'Recency': 'Average Recency',\n",
    "    'Frequency': 'Average Frequency',\n",
    "    'MonetaryValue': 'Average Monetary Value',\n",
    "    'Recency': 'Number of Customers in Cluster'\n",
    "}, inplace=True)\n",
    "\n",
    "# Print the cluster summary\n",
    "print(cluster_summary)\n"
   ]
  },
  {
   "cell_type": "markdown",
   "id": "ba958d96",
   "metadata": {},
   "source": [
    "# '''\n",
    "High-Recency, Low-Frequency, Low-Monetary (Potential Churned Customers):\n",
    "\n",
    "These customers don't purchase frequently and have high Recency (not recent purchases).\n",
    "Their spending is also low, indicating they are not high-value consumers.\n",
    "They may be at risk of churn and require re-engagement strategies.\n",
    "High-Recency, High-Frequency, High-Monetary (Loyal and Valuable Customers):\n",
    "\n",
    "Customers in this segment have high Recency (not recent purchases).\n",
    "They shop frequently and spend significantly more than others.\n",
    "These are your most valuable clients and should be rewarded with personalized offers and loyalty programs.\n",
    "Low-Recency, High-Frequency, High-Monetary (Active and Devoted Customers):\n",
    "\n",
    "These customers have low Recency (recent purchases).\n",
    "They make frequent purchases and have high Monetary Value.\n",
    "This group consists of active and loyal buyers who may respond positively to loyalty incentives and personalized recommendations.\n",
    "Low-Recency, Low-Frequency, Low-Monetary (Low-Engagement Customers):\n",
    "\n",
    "Customers in this segment have low Recency (recent purchases).\n",
    "They don't make frequent purchases and spend little money.\n",
    "This group may include customers who recently purchased but haven't shown high engagement or loyalty.s They may need targeted incentives to increase spending and purchase frequency.\n",
    "In summary, these customer segments provide valuable insights into consumer behavior.\n",
    "Focus on retaining and rewarding your high-value, high-frequency customers, while implementing re-engagement strategies for those at risk of churn. \n",
    "Additionally, tailor your approach to encourage low-engagement customers to spend more and shop more frequently.\n",
    "\n",
    "'''"
   ]
  },
  {
   "cell_type": "code",
   "execution_count": null,
   "id": "0c49d965",
   "metadata": {},
   "outputs": [],
   "source": []
  }
 ],
 "metadata": {
  "kernelspec": {
   "display_name": "Python 3 (ipykernel)",
   "language": "python",
   "name": "python3"
  },
  "language_info": {
   "codemirror_mode": {
    "name": "ipython",
    "version": 3
   },
   "file_extension": ".py",
   "mimetype": "text/x-python",
   "name": "python",
   "nbconvert_exporter": "python",
   "pygments_lexer": "ipython3",
   "version": "3.10.9"
  }
 },
 "nbformat": 4,
 "nbformat_minor": 5
}
