{
 "cells": [
  {
   "cell_type": "markdown",
   "id": "7fc246ee",
   "metadata": {},
   "source": [
    "# TASK 2 - AIR POLLUTION PREDICTION"
   ]
  },
  {
   "cell_type": "code",
   "execution_count": 1,
   "id": "fc201bc7",
   "metadata": {},
   "outputs": [],
   "source": [
    "# import libraries\n",
    "import numpy as np\n",
    "import pandas as pd\n",
    "import matplotlib.pyplot as plt\n",
    "import seaborn as sns"
   ]
  },
  {
   "cell_type": "code",
   "execution_count": 3,
   "id": "26c7cdd7",
   "metadata": {},
   "outputs": [
    {
     "data": {
      "text/html": [
       "<div>\n",
       "<style scoped>\n",
       "    .dataframe tbody tr th:only-of-type {\n",
       "        vertical-align: middle;\n",
       "    }\n",
       "\n",
       "    .dataframe tbody tr th {\n",
       "        vertical-align: top;\n",
       "    }\n",
       "\n",
       "    .dataframe thead th {\n",
       "        text-align: right;\n",
       "    }\n",
       "</style>\n",
       "<table border=\"1\" class=\"dataframe\">\n",
       "  <thead>\n",
       "    <tr style=\"text-align: right;\">\n",
       "      <th></th>\n",
       "      <th>No</th>\n",
       "      <th>year</th>\n",
       "      <th>month</th>\n",
       "      <th>day</th>\n",
       "      <th>hour</th>\n",
       "      <th>pm2.5</th>\n",
       "      <th>DEWP</th>\n",
       "      <th>TEMP</th>\n",
       "      <th>PRES</th>\n",
       "      <th>cbwd</th>\n",
       "      <th>Iws</th>\n",
       "      <th>Is</th>\n",
       "      <th>Ir</th>\n",
       "    </tr>\n",
       "  </thead>\n",
       "  <tbody>\n",
       "    <tr>\n",
       "      <th>0</th>\n",
       "      <td>1</td>\n",
       "      <td>2010</td>\n",
       "      <td>1</td>\n",
       "      <td>1</td>\n",
       "      <td>0</td>\n",
       "      <td>NaN</td>\n",
       "      <td>-21</td>\n",
       "      <td>-11.0</td>\n",
       "      <td>1021.0</td>\n",
       "      <td>NW</td>\n",
       "      <td>1.79</td>\n",
       "      <td>0</td>\n",
       "      <td>0</td>\n",
       "    </tr>\n",
       "    <tr>\n",
       "      <th>1</th>\n",
       "      <td>2</td>\n",
       "      <td>2010</td>\n",
       "      <td>1</td>\n",
       "      <td>1</td>\n",
       "      <td>1</td>\n",
       "      <td>NaN</td>\n",
       "      <td>-21</td>\n",
       "      <td>-12.0</td>\n",
       "      <td>1020.0</td>\n",
       "      <td>NW</td>\n",
       "      <td>4.92</td>\n",
       "      <td>0</td>\n",
       "      <td>0</td>\n",
       "    </tr>\n",
       "    <tr>\n",
       "      <th>2</th>\n",
       "      <td>3</td>\n",
       "      <td>2010</td>\n",
       "      <td>1</td>\n",
       "      <td>1</td>\n",
       "      <td>2</td>\n",
       "      <td>NaN</td>\n",
       "      <td>-21</td>\n",
       "      <td>-11.0</td>\n",
       "      <td>1019.0</td>\n",
       "      <td>NW</td>\n",
       "      <td>6.71</td>\n",
       "      <td>0</td>\n",
       "      <td>0</td>\n",
       "    </tr>\n",
       "    <tr>\n",
       "      <th>3</th>\n",
       "      <td>4</td>\n",
       "      <td>2010</td>\n",
       "      <td>1</td>\n",
       "      <td>1</td>\n",
       "      <td>3</td>\n",
       "      <td>NaN</td>\n",
       "      <td>-21</td>\n",
       "      <td>-14.0</td>\n",
       "      <td>1019.0</td>\n",
       "      <td>NW</td>\n",
       "      <td>9.84</td>\n",
       "      <td>0</td>\n",
       "      <td>0</td>\n",
       "    </tr>\n",
       "    <tr>\n",
       "      <th>4</th>\n",
       "      <td>5</td>\n",
       "      <td>2010</td>\n",
       "      <td>1</td>\n",
       "      <td>1</td>\n",
       "      <td>4</td>\n",
       "      <td>NaN</td>\n",
       "      <td>-20</td>\n",
       "      <td>-12.0</td>\n",
       "      <td>1018.0</td>\n",
       "      <td>NW</td>\n",
       "      <td>12.97</td>\n",
       "      <td>0</td>\n",
       "      <td>0</td>\n",
       "    </tr>\n",
       "    <tr>\n",
       "      <th>...</th>\n",
       "      <td>...</td>\n",
       "      <td>...</td>\n",
       "      <td>...</td>\n",
       "      <td>...</td>\n",
       "      <td>...</td>\n",
       "      <td>...</td>\n",
       "      <td>...</td>\n",
       "      <td>...</td>\n",
       "      <td>...</td>\n",
       "      <td>...</td>\n",
       "      <td>...</td>\n",
       "      <td>...</td>\n",
       "      <td>...</td>\n",
       "    </tr>\n",
       "    <tr>\n",
       "      <th>43819</th>\n",
       "      <td>43820</td>\n",
       "      <td>2014</td>\n",
       "      <td>12</td>\n",
       "      <td>31</td>\n",
       "      <td>19</td>\n",
       "      <td>8.0</td>\n",
       "      <td>-23</td>\n",
       "      <td>-2.0</td>\n",
       "      <td>1034.0</td>\n",
       "      <td>NW</td>\n",
       "      <td>231.97</td>\n",
       "      <td>0</td>\n",
       "      <td>0</td>\n",
       "    </tr>\n",
       "    <tr>\n",
       "      <th>43820</th>\n",
       "      <td>43821</td>\n",
       "      <td>2014</td>\n",
       "      <td>12</td>\n",
       "      <td>31</td>\n",
       "      <td>20</td>\n",
       "      <td>10.0</td>\n",
       "      <td>-22</td>\n",
       "      <td>-3.0</td>\n",
       "      <td>1034.0</td>\n",
       "      <td>NW</td>\n",
       "      <td>237.78</td>\n",
       "      <td>0</td>\n",
       "      <td>0</td>\n",
       "    </tr>\n",
       "    <tr>\n",
       "      <th>43821</th>\n",
       "      <td>43822</td>\n",
       "      <td>2014</td>\n",
       "      <td>12</td>\n",
       "      <td>31</td>\n",
       "      <td>21</td>\n",
       "      <td>10.0</td>\n",
       "      <td>-22</td>\n",
       "      <td>-3.0</td>\n",
       "      <td>1034.0</td>\n",
       "      <td>NW</td>\n",
       "      <td>242.70</td>\n",
       "      <td>0</td>\n",
       "      <td>0</td>\n",
       "    </tr>\n",
       "    <tr>\n",
       "      <th>43822</th>\n",
       "      <td>43823</td>\n",
       "      <td>2014</td>\n",
       "      <td>12</td>\n",
       "      <td>31</td>\n",
       "      <td>22</td>\n",
       "      <td>8.0</td>\n",
       "      <td>-22</td>\n",
       "      <td>-4.0</td>\n",
       "      <td>1034.0</td>\n",
       "      <td>NW</td>\n",
       "      <td>246.72</td>\n",
       "      <td>0</td>\n",
       "      <td>0</td>\n",
       "    </tr>\n",
       "    <tr>\n",
       "      <th>43823</th>\n",
       "      <td>43824</td>\n",
       "      <td>2014</td>\n",
       "      <td>12</td>\n",
       "      <td>31</td>\n",
       "      <td>23</td>\n",
       "      <td>12.0</td>\n",
       "      <td>-21</td>\n",
       "      <td>-3.0</td>\n",
       "      <td>1034.0</td>\n",
       "      <td>NW</td>\n",
       "      <td>249.85</td>\n",
       "      <td>0</td>\n",
       "      <td>0</td>\n",
       "    </tr>\n",
       "  </tbody>\n",
       "</table>\n",
       "<p>43824 rows × 13 columns</p>\n",
       "</div>"
      ],
      "text/plain": [
       "          No  year  month  day  hour  pm2.5  DEWP  TEMP    PRES cbwd     Iws  \\\n",
       "0          1  2010      1    1     0    NaN   -21 -11.0  1021.0   NW    1.79   \n",
       "1          2  2010      1    1     1    NaN   -21 -12.0  1020.0   NW    4.92   \n",
       "2          3  2010      1    1     2    NaN   -21 -11.0  1019.0   NW    6.71   \n",
       "3          4  2010      1    1     3    NaN   -21 -14.0  1019.0   NW    9.84   \n",
       "4          5  2010      1    1     4    NaN   -20 -12.0  1018.0   NW   12.97   \n",
       "...      ...   ...    ...  ...   ...    ...   ...   ...     ...  ...     ...   \n",
       "43819  43820  2014     12   31    19    8.0   -23  -2.0  1034.0   NW  231.97   \n",
       "43820  43821  2014     12   31    20   10.0   -22  -3.0  1034.0   NW  237.78   \n",
       "43821  43822  2014     12   31    21   10.0   -22  -3.0  1034.0   NW  242.70   \n",
       "43822  43823  2014     12   31    22    8.0   -22  -4.0  1034.0   NW  246.72   \n",
       "43823  43824  2014     12   31    23   12.0   -21  -3.0  1034.0   NW  249.85   \n",
       "\n",
       "       Is  Ir  \n",
       "0       0   0  \n",
       "1       0   0  \n",
       "2       0   0  \n",
       "3       0   0  \n",
       "4       0   0  \n",
       "...    ..  ..  \n",
       "43819   0   0  \n",
       "43820   0   0  \n",
       "43821   0   0  \n",
       "43822   0   0  \n",
       "43823   0   0  \n",
       "\n",
       "[43824 rows x 13 columns]"
      ]
     },
     "execution_count": 3,
     "metadata": {},
     "output_type": "execute_result"
    }
   ],
   "source": [
    "# load dataset\n",
    "df=pd.read_csv(\"airpolution.csv\")\n",
    "df"
   ]
  },
  {
   "cell_type": "code",
   "execution_count": 4,
   "id": "937b8011",
   "metadata": {},
   "outputs": [
    {
     "name": "stdout",
     "output_type": "stream",
     "text": [
      "<class 'pandas.core.frame.DataFrame'>\n",
      "RangeIndex: 43824 entries, 0 to 43823\n",
      "Data columns (total 13 columns):\n",
      " #   Column  Non-Null Count  Dtype  \n",
      "---  ------  --------------  -----  \n",
      " 0   No      43824 non-null  int64  \n",
      " 1   year    43824 non-null  int64  \n",
      " 2   month   43824 non-null  int64  \n",
      " 3   day     43824 non-null  int64  \n",
      " 4   hour    43824 non-null  int64  \n",
      " 5   pm2.5   41757 non-null  float64\n",
      " 6   DEWP    43824 non-null  int64  \n",
      " 7   TEMP    43824 non-null  float64\n",
      " 8   PRES    43824 non-null  float64\n",
      " 9   cbwd    43824 non-null  object \n",
      " 10  Iws     43824 non-null  float64\n",
      " 11  Is      43824 non-null  int64  \n",
      " 12  Ir      43824 non-null  int64  \n",
      "dtypes: float64(4), int64(8), object(1)\n",
      "memory usage: 4.3+ MB\n"
     ]
    }
   ],
   "source": [
    "df.info()"
   ]
  },
  {
   "cell_type": "code",
   "execution_count": 5,
   "id": "d09c7d44",
   "metadata": {},
   "outputs": [
    {
     "data": {
      "text/plain": [
       "No          0\n",
       "year        0\n",
       "month       0\n",
       "day         0\n",
       "hour        0\n",
       "pm2.5    2067\n",
       "DEWP        0\n",
       "TEMP        0\n",
       "PRES        0\n",
       "cbwd        0\n",
       "Iws         0\n",
       "Is          0\n",
       "Ir          0\n",
       "dtype: int64"
      ]
     },
     "execution_count": 5,
     "metadata": {},
     "output_type": "execute_result"
    }
   ],
   "source": [
    "df.isnull().sum()"
   ]
  },
  {
   "cell_type": "code",
   "execution_count": 6,
   "id": "de5f8825",
   "metadata": {},
   "outputs": [
    {
     "data": {
      "text/plain": [
       "No       0\n",
       "year     0\n",
       "month    0\n",
       "day      0\n",
       "hour     0\n",
       "pm2.5    0\n",
       "DEWP     0\n",
       "TEMP     0\n",
       "PRES     0\n",
       "cbwd     0\n",
       "Iws      0\n",
       "Is       0\n",
       "Ir       0\n",
       "dtype: int64"
      ]
     },
     "execution_count": 6,
     "metadata": {},
     "output_type": "execute_result"
    }
   ],
   "source": [
    "df['pm2.5'].fillna(df[ \"pm2.5\"].mean(),inplace=True)\n",
    "df.isnull().sum()"
   ]
  },
  {
   "cell_type": "code",
   "execution_count": 7,
   "id": "e1e00001",
   "metadata": {},
   "outputs": [],
   "source": [
    "# Encoding categorical variable\n",
    "cat_val=[]\n",
    "cont_val=[]\n",
    "for columns in ap_data.columns:\n",
    "    if df[columns].nunique()<=10:\n",
    "        cat_val.append(columns)\n",
    "    else:\n",
    "        cont_val.append(columns)"
   ]
  },
  {
   "cell_type": "code",
   "execution_count": 9,
   "id": "f56ad2b2",
   "metadata": {},
   "outputs": [
    {
     "name": "stdout",
     "output_type": "stream",
     "text": [
      "categorical values are:  ['year', 'cbwd']\n",
      "continue values are:  ['No', 'month', 'day', 'hour', 'pm2.5', 'DEWP', 'TEMP', 'PRES', 'Iws', 'Is', 'Ir']\n"
     ]
    }
   ],
   "source": [
    "print(\"categorical values are: \",cat_val)\n",
    "print(\"continue values are: \", cont_val)"
   ]
  },
  {
   "cell_type": "code",
   "execution_count": 10,
   "id": "48871c5c",
   "metadata": {},
   "outputs": [
    {
     "data": {
      "text/plain": [
       "array(['NW', 'cv', 'NE', 'SE'], dtype=object)"
      ]
     },
     "execution_count": 10,
     "metadata": {},
     "output_type": "execute_result"
    }
   ],
   "source": [
    "df['cbwd'].unique()"
   ]
  },
  {
   "cell_type": "code",
   "execution_count": 12,
   "id": "811ed8d4",
   "metadata": {},
   "outputs": [
    {
     "data": {
      "text/html": [
       "<div>\n",
       "<style scoped>\n",
       "    .dataframe tbody tr th:only-of-type {\n",
       "        vertical-align: middle;\n",
       "    }\n",
       "\n",
       "    .dataframe tbody tr th {\n",
       "        vertical-align: top;\n",
       "    }\n",
       "\n",
       "    .dataframe thead th {\n",
       "        text-align: right;\n",
       "    }\n",
       "</style>\n",
       "<table border=\"1\" class=\"dataframe\">\n",
       "  <thead>\n",
       "    <tr style=\"text-align: right;\">\n",
       "      <th></th>\n",
       "      <th>No</th>\n",
       "      <th>month</th>\n",
       "      <th>day</th>\n",
       "      <th>hour</th>\n",
       "      <th>pm2.5</th>\n",
       "      <th>DEWP</th>\n",
       "      <th>TEMP</th>\n",
       "      <th>PRES</th>\n",
       "      <th>Iws</th>\n",
       "      <th>Is</th>\n",
       "      <th>Ir</th>\n",
       "      <th>year_2011</th>\n",
       "      <th>year_2012</th>\n",
       "      <th>year_2013</th>\n",
       "      <th>year_2014</th>\n",
       "      <th>cbwd_NW</th>\n",
       "      <th>cbwd_SE</th>\n",
       "      <th>cbwd_cv</th>\n",
       "    </tr>\n",
       "  </thead>\n",
       "  <tbody>\n",
       "    <tr>\n",
       "      <th>0</th>\n",
       "      <td>1</td>\n",
       "      <td>1</td>\n",
       "      <td>1</td>\n",
       "      <td>0</td>\n",
       "      <td>98.613215</td>\n",
       "      <td>-21</td>\n",
       "      <td>-11.0</td>\n",
       "      <td>1021.0</td>\n",
       "      <td>1.79</td>\n",
       "      <td>0</td>\n",
       "      <td>0</td>\n",
       "      <td>0</td>\n",
       "      <td>0</td>\n",
       "      <td>0</td>\n",
       "      <td>0</td>\n",
       "      <td>1</td>\n",
       "      <td>0</td>\n",
       "      <td>0</td>\n",
       "    </tr>\n",
       "    <tr>\n",
       "      <th>1</th>\n",
       "      <td>2</td>\n",
       "      <td>1</td>\n",
       "      <td>1</td>\n",
       "      <td>1</td>\n",
       "      <td>98.613215</td>\n",
       "      <td>-21</td>\n",
       "      <td>-12.0</td>\n",
       "      <td>1020.0</td>\n",
       "      <td>4.92</td>\n",
       "      <td>0</td>\n",
       "      <td>0</td>\n",
       "      <td>0</td>\n",
       "      <td>0</td>\n",
       "      <td>0</td>\n",
       "      <td>0</td>\n",
       "      <td>1</td>\n",
       "      <td>0</td>\n",
       "      <td>0</td>\n",
       "    </tr>\n",
       "    <tr>\n",
       "      <th>2</th>\n",
       "      <td>3</td>\n",
       "      <td>1</td>\n",
       "      <td>1</td>\n",
       "      <td>2</td>\n",
       "      <td>98.613215</td>\n",
       "      <td>-21</td>\n",
       "      <td>-11.0</td>\n",
       "      <td>1019.0</td>\n",
       "      <td>6.71</td>\n",
       "      <td>0</td>\n",
       "      <td>0</td>\n",
       "      <td>0</td>\n",
       "      <td>0</td>\n",
       "      <td>0</td>\n",
       "      <td>0</td>\n",
       "      <td>1</td>\n",
       "      <td>0</td>\n",
       "      <td>0</td>\n",
       "    </tr>\n",
       "    <tr>\n",
       "      <th>3</th>\n",
       "      <td>4</td>\n",
       "      <td>1</td>\n",
       "      <td>1</td>\n",
       "      <td>3</td>\n",
       "      <td>98.613215</td>\n",
       "      <td>-21</td>\n",
       "      <td>-14.0</td>\n",
       "      <td>1019.0</td>\n",
       "      <td>9.84</td>\n",
       "      <td>0</td>\n",
       "      <td>0</td>\n",
       "      <td>0</td>\n",
       "      <td>0</td>\n",
       "      <td>0</td>\n",
       "      <td>0</td>\n",
       "      <td>1</td>\n",
       "      <td>0</td>\n",
       "      <td>0</td>\n",
       "    </tr>\n",
       "    <tr>\n",
       "      <th>4</th>\n",
       "      <td>5</td>\n",
       "      <td>1</td>\n",
       "      <td>1</td>\n",
       "      <td>4</td>\n",
       "      <td>98.613215</td>\n",
       "      <td>-20</td>\n",
       "      <td>-12.0</td>\n",
       "      <td>1018.0</td>\n",
       "      <td>12.97</td>\n",
       "      <td>0</td>\n",
       "      <td>0</td>\n",
       "      <td>0</td>\n",
       "      <td>0</td>\n",
       "      <td>0</td>\n",
       "      <td>0</td>\n",
       "      <td>1</td>\n",
       "      <td>0</td>\n",
       "      <td>0</td>\n",
       "    </tr>\n",
       "    <tr>\n",
       "      <th>...</th>\n",
       "      <td>...</td>\n",
       "      <td>...</td>\n",
       "      <td>...</td>\n",
       "      <td>...</td>\n",
       "      <td>...</td>\n",
       "      <td>...</td>\n",
       "      <td>...</td>\n",
       "      <td>...</td>\n",
       "      <td>...</td>\n",
       "      <td>...</td>\n",
       "      <td>...</td>\n",
       "      <td>...</td>\n",
       "      <td>...</td>\n",
       "      <td>...</td>\n",
       "      <td>...</td>\n",
       "      <td>...</td>\n",
       "      <td>...</td>\n",
       "      <td>...</td>\n",
       "    </tr>\n",
       "    <tr>\n",
       "      <th>43819</th>\n",
       "      <td>43820</td>\n",
       "      <td>12</td>\n",
       "      <td>31</td>\n",
       "      <td>19</td>\n",
       "      <td>8.000000</td>\n",
       "      <td>-23</td>\n",
       "      <td>-2.0</td>\n",
       "      <td>1034.0</td>\n",
       "      <td>231.97</td>\n",
       "      <td>0</td>\n",
       "      <td>0</td>\n",
       "      <td>0</td>\n",
       "      <td>0</td>\n",
       "      <td>0</td>\n",
       "      <td>1</td>\n",
       "      <td>1</td>\n",
       "      <td>0</td>\n",
       "      <td>0</td>\n",
       "    </tr>\n",
       "    <tr>\n",
       "      <th>43820</th>\n",
       "      <td>43821</td>\n",
       "      <td>12</td>\n",
       "      <td>31</td>\n",
       "      <td>20</td>\n",
       "      <td>10.000000</td>\n",
       "      <td>-22</td>\n",
       "      <td>-3.0</td>\n",
       "      <td>1034.0</td>\n",
       "      <td>237.78</td>\n",
       "      <td>0</td>\n",
       "      <td>0</td>\n",
       "      <td>0</td>\n",
       "      <td>0</td>\n",
       "      <td>0</td>\n",
       "      <td>1</td>\n",
       "      <td>1</td>\n",
       "      <td>0</td>\n",
       "      <td>0</td>\n",
       "    </tr>\n",
       "    <tr>\n",
       "      <th>43821</th>\n",
       "      <td>43822</td>\n",
       "      <td>12</td>\n",
       "      <td>31</td>\n",
       "      <td>21</td>\n",
       "      <td>10.000000</td>\n",
       "      <td>-22</td>\n",
       "      <td>-3.0</td>\n",
       "      <td>1034.0</td>\n",
       "      <td>242.70</td>\n",
       "      <td>0</td>\n",
       "      <td>0</td>\n",
       "      <td>0</td>\n",
       "      <td>0</td>\n",
       "      <td>0</td>\n",
       "      <td>1</td>\n",
       "      <td>1</td>\n",
       "      <td>0</td>\n",
       "      <td>0</td>\n",
       "    </tr>\n",
       "    <tr>\n",
       "      <th>43822</th>\n",
       "      <td>43823</td>\n",
       "      <td>12</td>\n",
       "      <td>31</td>\n",
       "      <td>22</td>\n",
       "      <td>8.000000</td>\n",
       "      <td>-22</td>\n",
       "      <td>-4.0</td>\n",
       "      <td>1034.0</td>\n",
       "      <td>246.72</td>\n",
       "      <td>0</td>\n",
       "      <td>0</td>\n",
       "      <td>0</td>\n",
       "      <td>0</td>\n",
       "      <td>0</td>\n",
       "      <td>1</td>\n",
       "      <td>1</td>\n",
       "      <td>0</td>\n",
       "      <td>0</td>\n",
       "    </tr>\n",
       "    <tr>\n",
       "      <th>43823</th>\n",
       "      <td>43824</td>\n",
       "      <td>12</td>\n",
       "      <td>31</td>\n",
       "      <td>23</td>\n",
       "      <td>12.000000</td>\n",
       "      <td>-21</td>\n",
       "      <td>-3.0</td>\n",
       "      <td>1034.0</td>\n",
       "      <td>249.85</td>\n",
       "      <td>0</td>\n",
       "      <td>0</td>\n",
       "      <td>0</td>\n",
       "      <td>0</td>\n",
       "      <td>0</td>\n",
       "      <td>1</td>\n",
       "      <td>1</td>\n",
       "      <td>0</td>\n",
       "      <td>0</td>\n",
       "    </tr>\n",
       "  </tbody>\n",
       "</table>\n",
       "<p>43824 rows × 18 columns</p>\n",
       "</div>"
      ],
      "text/plain": [
       "          No  month  day  hour      pm2.5  DEWP  TEMP    PRES     Iws  Is  Ir  \\\n",
       "0          1      1    1     0  98.613215   -21 -11.0  1021.0    1.79   0   0   \n",
       "1          2      1    1     1  98.613215   -21 -12.0  1020.0    4.92   0   0   \n",
       "2          3      1    1     2  98.613215   -21 -11.0  1019.0    6.71   0   0   \n",
       "3          4      1    1     3  98.613215   -21 -14.0  1019.0    9.84   0   0   \n",
       "4          5      1    1     4  98.613215   -20 -12.0  1018.0   12.97   0   0   \n",
       "...      ...    ...  ...   ...        ...   ...   ...     ...     ...  ..  ..   \n",
       "43819  43820     12   31    19   8.000000   -23  -2.0  1034.0  231.97   0   0   \n",
       "43820  43821     12   31    20  10.000000   -22  -3.0  1034.0  237.78   0   0   \n",
       "43821  43822     12   31    21  10.000000   -22  -3.0  1034.0  242.70   0   0   \n",
       "43822  43823     12   31    22   8.000000   -22  -4.0  1034.0  246.72   0   0   \n",
       "43823  43824     12   31    23  12.000000   -21  -3.0  1034.0  249.85   0   0   \n",
       "\n",
       "       year_2011  year_2012  year_2013  year_2014  cbwd_NW  cbwd_SE  cbwd_cv  \n",
       "0              0          0          0          0        1        0        0  \n",
       "1              0          0          0          0        1        0        0  \n",
       "2              0          0          0          0        1        0        0  \n",
       "3              0          0          0          0        1        0        0  \n",
       "4              0          0          0          0        1        0        0  \n",
       "...          ...        ...        ...        ...      ...      ...      ...  \n",
       "43819          0          0          0          1        1        0        0  \n",
       "43820          0          0          0          1        1        0        0  \n",
       "43821          0          0          0          1        1        0        0  \n",
       "43822          0          0          0          1        1        0        0  \n",
       "43823          0          0          0          1        1        0        0  \n",
       "\n",
       "[43824 rows x 18 columns]"
      ]
     },
     "execution_count": 12,
     "metadata": {},
     "output_type": "execute_result"
    }
   ],
   "source": [
    "df1=pd.get_dummies(df,columns=cat_val,drop_first=True)\n",
    "df1"
   ]
  },
  {
   "cell_type": "code",
   "execution_count": 13,
   "id": "bc64fb33",
   "metadata": {},
   "outputs": [],
   "source": [
    "# scaling numerical variables\n",
    "from sklearn.preprocessing import StandardScaler\n",
    "ss=StandardScaler()\n",
    "df1[cont_val]=ss.fit_transform(df1[cont_val])"
   ]
  },
  {
   "cell_type": "markdown",
   "id": "4db1e08f",
   "metadata": {},
   "source": [
    "# exploratory data analysis"
   ]
  },
  {
   "cell_type": "code",
   "execution_count": 14,
   "id": "39e70cb0",
   "metadata": {},
   "outputs": [
    {
     "data": {
      "text/plain": [
       "Text(0, 0.5, 'counts')"
      ]
     },
     "execution_count": 14,
     "metadata": {},
     "output_type": "execute_result"
    },
    {
     "data": {
      "image/png": "[encoded data removed]",
      "text/plain": [
       "<Figure size 640x480 with 1 Axes>"
      ]
     },
     "metadata": {},
     "output_type": "display_data"
    }
   ],
   "source": [
    "df['month'].value_counts().plot.bar()\n",
    "plt.xlabel('month')\n",
    "plt.ylabel('counts')\n"
   ]
  },
  {
   "cell_type": "code",
   "execution_count": 23,
   "id": "4946b2a8",
   "metadata": {},
   "outputs": [
    {
     "data": {
      "text/plain": [
       "<matplotlib.collections.PathCollection at 0x196ecd9abc0>"
      ]
     },
     "execution_count": 23,
     "metadata": {},
     "output_type": "execute_result"
    },
    {
     "data": {
      "image/png": "[encoded data removed]",
      "text/plain": [
       "<Figure size 1500x1500 with 1 Axes>"
      ]
     },
     "metadata": {},
     "output_type": "display_data"
    }
   ],
   "source": [
    "plt.figure(figsize=(15,15))\n",
    "plt.scatter(x=df['TEMP'], y = df['PRES'], marker = 'v', color = 'red')"
   ]
  },
  {
   "cell_type": "code",
   "execution_count": 15,
   "id": "c0b64ae7",
   "metadata": {},
   "outputs": [
    {
     "data": {
      "text/plain": [
       "<Axes: xlabel='pm2.5', ylabel='count'>"
      ]
     },
     "execution_count": 15,
     "metadata": {},
     "output_type": "execute_result"
    },
    {
     "data": {
      "image/png": "[encoded data removed]",
      "text/plain": [
       "<Figure size 640x480 with 1 Axes>"
      ]
     },
     "metadata": {},
     "output_type": "display_data"
    }
   ],
   "source": [
    "sns.countplot(x=ap_data['pm2.5'],data=ap_data)\n"
   ]
  },
  {
   "cell_type": "code",
   "execution_count": 16,
   "id": "49801586",
   "metadata": {},
   "outputs": [
    {
     "data": {
      "text/plain": [
       "<Axes: xlabel='cbwd', ylabel='Count'>"
      ]
     },
     "execution_count": 16,
     "metadata": {},
     "output_type": "execute_result"
    },
    {
     "data": {
      "image/png": "[encoded data removed]",
      "text/plain": [
       "<Figure size 640x480 with 1 Axes>"
      ]
     },
     "metadata": {},
     "output_type": "display_data"
    }
   ],
   "source": [
    "sns.histplot(data=ap_data['cbwd'])\n"
   ]
  },
  {
   "cell_type": "code",
   "execution_count": 17,
   "id": "68b3ecc7",
   "metadata": {},
   "outputs": [
    {
     "data": {
      "text/plain": [
       "<matplotlib.collections.PathCollection at 0x196ea2694b0>"
      ]
     },
     "execution_count": 17,
     "metadata": {},
     "output_type": "execute_result"
    },
    {
     "data": {
      "image/png": "[encoded data removed]",
      "text/plain": [
       "<Figure size 640x480 with 1 Axes>"
      ]
     },
     "metadata": {},
     "output_type": "display_data"
    }
   ],
   "source": [
    "plt.scatter(x=ap_data['TEMP'],y=ap_data['month'])\n"
   ]
  },
  {
   "cell_type": "markdown",
   "id": "a595ff06",
   "metadata": {},
   "source": [
    "# MODEL IMPLEMENTATION"
   ]
  },
  {
   "cell_type": "code",
   "execution_count": 26,
   "id": "23c3dfd5",
   "metadata": {},
   "outputs": [],
   "source": [
    "from sklearn.linear_model import Ridge\n",
    "from sklearn.ensemble import RandomForestRegressor\n",
    "from sklearn.model_selection import train_test_split\n"
   ]
  },
  {
   "cell_type": "code",
   "execution_count": 29,
   "id": "12adda0b",
   "metadata": {},
   "outputs": [],
   "source": [
    "x= df1.drop('pm2.5', axis = 1)\n",
    "y = df1['pm2.5']"
   ]
  },
  {
   "cell_type": "code",
   "execution_count": 42,
   "id": "975fcbc2",
   "metadata": {},
   "outputs": [
    {
     "data": {
      "text/html": [
       "<div>\n",
       "<style scoped>\n",
       "    .dataframe tbody tr th:only-of-type {\n",
       "        vertical-align: middle;\n",
       "    }\n",
       "\n",
       "    .dataframe tbody tr th {\n",
       "        vertical-align: top;\n",
       "    }\n",
       "\n",
       "    .dataframe thead th {\n",
       "        text-align: right;\n",
       "    }\n",
       "</style>\n",
       "<table border=\"1\" class=\"dataframe\">\n",
       "  <thead>\n",
       "    <tr style=\"text-align: right;\">\n",
       "      <th></th>\n",
       "      <th>No</th>\n",
       "      <th>month</th>\n",
       "      <th>day</th>\n",
       "      <th>hour</th>\n",
       "      <th>DEWP</th>\n",
       "      <th>TEMP</th>\n",
       "      <th>PRES</th>\n",
       "      <th>Iws</th>\n",
       "      <th>Is</th>\n",
       "      <th>Ir</th>\n",
       "      <th>year_2011</th>\n",
       "      <th>year_2012</th>\n",
       "      <th>year_2013</th>\n",
       "      <th>year_2014</th>\n",
       "      <th>cbwd_NW</th>\n",
       "      <th>cbwd_SE</th>\n",
       "      <th>cbwd_cv</th>\n",
       "    </tr>\n",
       "  </thead>\n",
       "  <tbody>\n",
       "    <tr>\n",
       "      <th>27051</th>\n",
       "      <td>0.406256</td>\n",
       "      <td>-1.311731</td>\n",
       "      <td>-1.673744</td>\n",
       "      <td>-1.227936</td>\n",
       "      <td>-0.472328</td>\n",
       "      <td>-1.430386</td>\n",
       "      <td>0.638097</td>\n",
       "      <td>-0.441894</td>\n",
       "      <td>-0.069353</td>\n",
       "      <td>-0.137667</td>\n",
       "      <td>0</td>\n",
       "      <td>0</td>\n",
       "      <td>1</td>\n",
       "      <td>0</td>\n",
       "      <td>0</td>\n",
       "      <td>0</td>\n",
       "      <td>0</td>\n",
       "    </tr>\n",
       "    <tr>\n",
       "      <th>4989</th>\n",
       "      <td>-1.337652</td>\n",
       "      <td>0.138161</td>\n",
       "      <td>1.281028</td>\n",
       "      <td>1.372399</td>\n",
       "      <td>1.467633</td>\n",
       "      <td>1.438826</td>\n",
       "      <td>-1.309592</td>\n",
       "      <td>0.568303</td>\n",
       "      <td>-0.069353</td>\n",
       "      <td>-0.137667</td>\n",
       "      <td>0</td>\n",
       "      <td>0</td>\n",
       "      <td>0</td>\n",
       "      <td>0</td>\n",
       "      <td>0</td>\n",
       "      <td>1</td>\n",
       "      <td>0</td>\n",
       "    </tr>\n",
       "    <tr>\n",
       "      <th>33836</th>\n",
       "      <td>0.942581</td>\n",
       "      <td>1.298074</td>\n",
       "      <td>-0.650939</td>\n",
       "      <td>1.227936</td>\n",
       "      <td>-1.442309</td>\n",
       "      <td>-0.364679</td>\n",
       "      <td>0.930250</td>\n",
       "      <td>-0.379306</td>\n",
       "      <td>-0.069353</td>\n",
       "      <td>-0.137667</td>\n",
       "      <td>0</td>\n",
       "      <td>0</td>\n",
       "      <td>1</td>\n",
       "      <td>0</td>\n",
       "      <td>1</td>\n",
       "      <td>0</td>\n",
       "      <td>0</td>\n",
       "    </tr>\n",
       "    <tr>\n",
       "      <th>38736</th>\n",
       "      <td>1.329905</td>\n",
       "      <td>-0.151818</td>\n",
       "      <td>-1.446454</td>\n",
       "      <td>-1.661325</td>\n",
       "      <td>0.774790</td>\n",
       "      <td>0.783006</td>\n",
       "      <td>-0.725286</td>\n",
       "      <td>-0.146953</td>\n",
       "      <td>-0.069353</td>\n",
       "      <td>-0.137667</td>\n",
       "      <td>0</td>\n",
       "      <td>0</td>\n",
       "      <td>0</td>\n",
       "      <td>1</td>\n",
       "      <td>1</td>\n",
       "      <td>0</td>\n",
       "      <td>0</td>\n",
       "    </tr>\n",
       "    <tr>\n",
       "      <th>18970</th>\n",
       "      <td>-0.232513</td>\n",
       "      <td>-1.021753</td>\n",
       "      <td>-1.673744</td>\n",
       "      <td>-0.216695</td>\n",
       "      <td>-0.403044</td>\n",
       "      <td>-0.774566</td>\n",
       "      <td>0.832865</td>\n",
       "      <td>-0.459890</td>\n",
       "      <td>-0.069353</td>\n",
       "      <td>-0.137667</td>\n",
       "      <td>0</td>\n",
       "      <td>1</td>\n",
       "      <td>0</td>\n",
       "      <td>0</td>\n",
       "      <td>0</td>\n",
       "      <td>0</td>\n",
       "      <td>1</td>\n",
       "    </tr>\n",
       "    <tr>\n",
       "      <th>...</th>\n",
       "      <td>...</td>\n",
       "      <td>...</td>\n",
       "      <td>...</td>\n",
       "      <td>...</td>\n",
       "      <td>...</td>\n",
       "      <td>...</td>\n",
       "      <td>...</td>\n",
       "      <td>...</td>\n",
       "      <td>...</td>\n",
       "      <td>...</td>\n",
       "      <td>...</td>\n",
       "      <td>...</td>\n",
       "      <td>...</td>\n",
       "      <td>...</td>\n",
       "      <td>...</td>\n",
       "      <td>...</td>\n",
       "      <td>...</td>\n",
       "    </tr>\n",
       "    <tr>\n",
       "      <th>11532</th>\n",
       "      <td>-0.820456</td>\n",
       "      <td>-0.731775</td>\n",
       "      <td>1.167383</td>\n",
       "      <td>0.072232</td>\n",
       "      <td>-0.056622</td>\n",
       "      <td>0.701029</td>\n",
       "      <td>-1.406977</td>\n",
       "      <td>-0.075368</td>\n",
       "      <td>-0.069353</td>\n",
       "      <td>-0.137667</td>\n",
       "      <td>1</td>\n",
       "      <td>0</td>\n",
       "      <td>0</td>\n",
       "      <td>0</td>\n",
       "      <td>1</td>\n",
       "      <td>0</td>\n",
       "      <td>0</td>\n",
       "    </tr>\n",
       "    <tr>\n",
       "      <th>27640</th>\n",
       "      <td>0.452814</td>\n",
       "      <td>-1.311731</td>\n",
       "      <td>1.053738</td>\n",
       "      <td>0.650084</td>\n",
       "      <td>-0.264475</td>\n",
       "      <td>-1.102476</td>\n",
       "      <td>0.930250</td>\n",
       "      <td>-0.352512</td>\n",
       "      <td>1.245803</td>\n",
       "      <td>-0.137667</td>\n",
       "      <td>0</td>\n",
       "      <td>0</td>\n",
       "      <td>1</td>\n",
       "      <td>0</td>\n",
       "      <td>1</td>\n",
       "      <td>0</td>\n",
       "      <td>0</td>\n",
       "    </tr>\n",
       "    <tr>\n",
       "      <th>14501</th>\n",
       "      <td>-0.585769</td>\n",
       "      <td>0.428139</td>\n",
       "      <td>1.394673</td>\n",
       "      <td>-0.939010</td>\n",
       "      <td>1.121211</td>\n",
       "      <td>0.455096</td>\n",
       "      <td>-0.530517</td>\n",
       "      <td>-0.424097</td>\n",
       "      <td>-0.069353</td>\n",
       "      <td>-0.137667</td>\n",
       "      <td>1</td>\n",
       "      <td>0</td>\n",
       "      <td>0</td>\n",
       "      <td>0</td>\n",
       "      <td>1</td>\n",
       "      <td>0</td>\n",
       "      <td>0</td>\n",
       "    </tr>\n",
       "    <tr>\n",
       "      <th>30727</th>\n",
       "      <td>0.696828</td>\n",
       "      <td>0.138161</td>\n",
       "      <td>-1.332809</td>\n",
       "      <td>-0.650084</td>\n",
       "      <td>1.190496</td>\n",
       "      <td>1.110916</td>\n",
       "      <td>-2.186052</td>\n",
       "      <td>-0.173748</td>\n",
       "      <td>-0.069353</td>\n",
       "      <td>-0.137667</td>\n",
       "      <td>0</td>\n",
       "      <td>0</td>\n",
       "      <td>1</td>\n",
       "      <td>0</td>\n",
       "      <td>1</td>\n",
       "      <td>0</td>\n",
       "      <td>0</td>\n",
       "    </tr>\n",
       "    <tr>\n",
       "      <th>11590</th>\n",
       "      <td>-0.815871</td>\n",
       "      <td>-0.731775</td>\n",
       "      <td>1.394673</td>\n",
       "      <td>1.516862</td>\n",
       "      <td>0.428368</td>\n",
       "      <td>0.455096</td>\n",
       "      <td>-1.309592</td>\n",
       "      <td>-0.003782</td>\n",
       "      <td>-0.069353</td>\n",
       "      <td>-0.137667</td>\n",
       "      <td>1</td>\n",
       "      <td>0</td>\n",
       "      <td>0</td>\n",
       "      <td>0</td>\n",
       "      <td>0</td>\n",
       "      <td>1</td>\n",
       "      <td>0</td>\n",
       "    </tr>\n",
       "  </tbody>\n",
       "</table>\n",
       "<p>35059 rows × 17 columns</p>\n",
       "</div>"
      ],
      "text/plain": [
       "             No     month       day      hour      DEWP      TEMP      PRES  \\\n",
       "27051  0.406256 -1.311731 -1.673744 -1.227936 -0.472328 -1.430386  0.638097   \n",
       "4989  -1.337652  0.138161  1.281028  1.372399  1.467633  1.438826 -1.309592   \n",
       "33836  0.942581  1.298074 -0.650939  1.227936 -1.442309 -0.364679  0.930250   \n",
       "38736  1.329905 -0.151818 -1.446454 -1.661325  0.774790  0.783006 -0.725286   \n",
       "18970 -0.232513 -1.021753 -1.673744 -0.216695 -0.403044 -0.774566  0.832865   \n",
       "...         ...       ...       ...       ...       ...       ...       ...   \n",
       "11532 -0.820456 -0.731775  1.167383  0.072232 -0.056622  0.701029 -1.406977   \n",
       "27640  0.452814 -1.311731  1.053738  0.650084 -0.264475 -1.102476  0.930250   \n",
       "14501 -0.585769  0.428139  1.394673 -0.939010  1.121211  0.455096 -0.530517   \n",
       "30727  0.696828  0.138161 -1.332809 -0.650084  1.190496  1.110916 -2.186052   \n",
       "11590 -0.815871 -0.731775  1.394673  1.516862  0.428368  0.455096 -1.309592   \n",
       "\n",
       "            Iws        Is        Ir  year_2011  year_2012  year_2013  \\\n",
       "27051 -0.441894 -0.069353 -0.137667          0          0          1   \n",
       "4989   0.568303 -0.069353 -0.137667          0          0          0   \n",
       "33836 -0.379306 -0.069353 -0.137667          0          0          1   \n",
       "38736 -0.146953 -0.069353 -0.137667          0          0          0   \n",
       "18970 -0.459890 -0.069353 -0.137667          0          1          0   \n",
       "...         ...       ...       ...        ...        ...        ...   \n",
       "11532 -0.075368 -0.069353 -0.137667          1          0          0   \n",
       "27640 -0.352512  1.245803 -0.137667          0          0          1   \n",
       "14501 -0.424097 -0.069353 -0.137667          1          0          0   \n",
       "30727 -0.173748 -0.069353 -0.137667          0          0          1   \n",
       "11590 -0.003782 -0.069353 -0.137667          1          0          0   \n",
       "\n",
       "       year_2014  cbwd_NW  cbwd_SE  cbwd_cv  \n",
       "27051          0        0        0        0  \n",
       "4989           0        0        1        0  \n",
       "33836          0        1        0        0  \n",
       "38736          1        1        0        0  \n",
       "18970          0        0        0        1  \n",
       "...          ...      ...      ...      ...  \n",
       "11532          0        1        0        0  \n",
       "27640          0        1        0        0  \n",
       "14501          0        1        0        0  \n",
       "30727          0        1        0        0  \n",
       "11590          0        0        1        0  \n",
       "\n",
       "[35059 rows x 17 columns]"
      ]
     },
     "execution_count": 42,
     "metadata": {},
     "output_type": "execute_result"
    }
   ],
   "source": [
    "X_train,X_test,Y_train,Y_test = train_test_split(x,y,test_size=0.2,random_state=40)\n",
    "X_train"
   ]
  },
  {
   "cell_type": "code",
   "execution_count": 43,
   "id": "ffc4e7c0",
   "metadata": {},
   "outputs": [
    {
     "data": {
      "text/plain": [
       "27051   -0.006825\n",
       "4989     0.304798\n",
       "33836   -0.296189\n",
       "38736   -0.463129\n",
       "18970    1.473383\n",
       "           ...   \n",
       "11532   -0.641199\n",
       "27640    0.605291\n",
       "14501    0.015434\n",
       "30727   -0.886046\n",
       "11590    0.000000\n",
       "Name: pm2.5, Length: 35059, dtype: float64"
      ]
     },
     "execution_count": 43,
     "metadata": {},
     "output_type": "execute_result"
    }
   ],
   "source": [
    "Y_train"
   ]
  },
  {
   "cell_type": "code",
   "execution_count": 44,
   "id": "effa14a1",
   "metadata": {},
   "outputs": [
    {
     "data": {
      "text/html": [
       "<div>\n",
       "<style scoped>\n",
       "    .dataframe tbody tr th:only-of-type {\n",
       "        vertical-align: middle;\n",
       "    }\n",
       "\n",
       "    .dataframe tbody tr th {\n",
       "        vertical-align: top;\n",
       "    }\n",
       "\n",
       "    .dataframe thead th {\n",
       "        text-align: right;\n",
       "    }\n",
       "</style>\n",
       "<table border=\"1\" class=\"dataframe\">\n",
       "  <thead>\n",
       "    <tr style=\"text-align: right;\">\n",
       "      <th></th>\n",
       "      <th>No</th>\n",
       "      <th>month</th>\n",
       "      <th>day</th>\n",
       "      <th>hour</th>\n",
       "      <th>DEWP</th>\n",
       "      <th>TEMP</th>\n",
       "      <th>PRES</th>\n",
       "      <th>Iws</th>\n",
       "      <th>Is</th>\n",
       "      <th>Ir</th>\n",
       "      <th>year_2011</th>\n",
       "      <th>year_2012</th>\n",
       "      <th>year_2013</th>\n",
       "      <th>year_2014</th>\n",
       "      <th>cbwd_NW</th>\n",
       "      <th>cbwd_SE</th>\n",
       "      <th>cbwd_cv</th>\n",
       "    </tr>\n",
       "  </thead>\n",
       "  <tbody>\n",
       "    <tr>\n",
       "      <th>36622</th>\n",
       "      <td>1.162803</td>\n",
       "      <td>-1.021753</td>\n",
       "      <td>-1.105519</td>\n",
       "      <td>1.516862</td>\n",
       "      <td>-1.858015</td>\n",
       "      <td>-0.856543</td>\n",
       "      <td>1.222403</td>\n",
       "      <td>-0.137955</td>\n",
       "      <td>-0.069353</td>\n",
       "      <td>-0.137667</td>\n",
       "      <td>0</td>\n",
       "      <td>0</td>\n",
       "      <td>0</td>\n",
       "      <td>1</td>\n",
       "      <td>0</td>\n",
       "      <td>1</td>\n",
       "      <td>0</td>\n",
       "    </tr>\n",
       "    <tr>\n",
       "      <th>21170</th>\n",
       "      <td>-0.058612</td>\n",
       "      <td>-0.151818</td>\n",
       "      <td>-1.673744</td>\n",
       "      <td>-1.372399</td>\n",
       "      <td>0.913358</td>\n",
       "      <td>0.291141</td>\n",
       "      <td>-0.238363</td>\n",
       "      <td>-0.325717</td>\n",
       "      <td>-0.069353</td>\n",
       "      <td>0.568622</td>\n",
       "      <td>0</td>\n",
       "      <td>1</td>\n",
       "      <td>0</td>\n",
       "      <td>0</td>\n",
       "      <td>1</td>\n",
       "      <td>0</td>\n",
       "      <td>0</td>\n",
       "    </tr>\n",
       "    <tr>\n",
       "      <th>7840</th>\n",
       "      <td>-1.112292</td>\n",
       "      <td>1.298074</td>\n",
       "      <td>0.826448</td>\n",
       "      <td>0.650084</td>\n",
       "      <td>-0.610897</td>\n",
       "      <td>-0.446656</td>\n",
       "      <td>0.151174</td>\n",
       "      <td>-0.459890</td>\n",
       "      <td>-0.069353</td>\n",
       "      <td>-0.137667</td>\n",
       "      <td>0</td>\n",
       "      <td>0</td>\n",
       "      <td>0</td>\n",
       "      <td>0</td>\n",
       "      <td>0</td>\n",
       "      <td>0</td>\n",
       "      <td>1</td>\n",
       "    </tr>\n",
       "    <tr>\n",
       "      <th>29130</th>\n",
       "      <td>0.570592</td>\n",
       "      <td>-0.731775</td>\n",
       "      <td>1.394673</td>\n",
       "      <td>0.939010</td>\n",
       "      <td>0.359084</td>\n",
       "      <td>0.537074</td>\n",
       "      <td>-0.822670</td>\n",
       "      <td>-0.415099</td>\n",
       "      <td>-0.069353</td>\n",
       "      <td>-0.137667</td>\n",
       "      <td>0</td>\n",
       "      <td>0</td>\n",
       "      <td>1</td>\n",
       "      <td>0</td>\n",
       "      <td>1</td>\n",
       "      <td>0</td>\n",
       "      <td>0</td>\n",
       "    </tr>\n",
       "    <tr>\n",
       "      <th>7639</th>\n",
       "      <td>-1.128181</td>\n",
       "      <td>1.298074</td>\n",
       "      <td>-0.082713</td>\n",
       "      <td>-0.650084</td>\n",
       "      <td>-0.680181</td>\n",
       "      <td>-1.020498</td>\n",
       "      <td>1.806710</td>\n",
       "      <td>4.100792</td>\n",
       "      <td>-0.069353</td>\n",
       "      <td>-0.137667</td>\n",
       "      <td>0</td>\n",
       "      <td>0</td>\n",
       "      <td>0</td>\n",
       "      <td>0</td>\n",
       "      <td>1</td>\n",
       "      <td>0</td>\n",
       "      <td>0</td>\n",
       "    </tr>\n",
       "    <tr>\n",
       "      <th>...</th>\n",
       "      <td>...</td>\n",
       "      <td>...</td>\n",
       "      <td>...</td>\n",
       "      <td>...</td>\n",
       "      <td>...</td>\n",
       "      <td>...</td>\n",
       "      <td>...</td>\n",
       "      <td>...</td>\n",
       "      <td>...</td>\n",
       "      <td>...</td>\n",
       "      <td>...</td>\n",
       "      <td>...</td>\n",
       "      <td>...</td>\n",
       "      <td>...</td>\n",
       "      <td>...</td>\n",
       "      <td>...</td>\n",
       "      <td>...</td>\n",
       "    </tr>\n",
       "    <tr>\n",
       "      <th>36363</th>\n",
       "      <td>1.142330</td>\n",
       "      <td>-1.311731</td>\n",
       "      <td>0.940093</td>\n",
       "      <td>-1.227936</td>\n",
       "      <td>-0.472328</td>\n",
       "      <td>-0.856543</td>\n",
       "      <td>1.125019</td>\n",
       "      <td>-0.459890</td>\n",
       "      <td>-0.069353</td>\n",
       "      <td>-0.137667</td>\n",
       "      <td>0</td>\n",
       "      <td>0</td>\n",
       "      <td>0</td>\n",
       "      <td>1</td>\n",
       "      <td>1</td>\n",
       "      <td>0</td>\n",
       "      <td>0</td>\n",
       "    </tr>\n",
       "    <tr>\n",
       "      <th>43693</th>\n",
       "      <td>1.721735</td>\n",
       "      <td>1.588052</td>\n",
       "      <td>1.167383</td>\n",
       "      <td>0.216695</td>\n",
       "      <td>-0.749466</td>\n",
       "      <td>-0.856543</td>\n",
       "      <td>1.417172</td>\n",
       "      <td>-0.442094</td>\n",
       "      <td>-0.069353</td>\n",
       "      <td>-0.137667</td>\n",
       "      <td>0</td>\n",
       "      <td>0</td>\n",
       "      <td>0</td>\n",
       "      <td>1</td>\n",
       "      <td>0</td>\n",
       "      <td>0</td>\n",
       "      <td>1</td>\n",
       "    </tr>\n",
       "    <tr>\n",
       "      <th>20621</th>\n",
       "      <td>-0.102009</td>\n",
       "      <td>-0.441796</td>\n",
       "      <td>-0.764584</td>\n",
       "      <td>-0.939010</td>\n",
       "      <td>0.428368</td>\n",
       "      <td>-0.036769</td>\n",
       "      <td>-0.238363</td>\n",
       "      <td>-0.424297</td>\n",
       "      <td>-0.069353</td>\n",
       "      <td>-0.137667</td>\n",
       "      <td>0</td>\n",
       "      <td>1</td>\n",
       "      <td>0</td>\n",
       "      <td>0</td>\n",
       "      <td>0</td>\n",
       "      <td>0</td>\n",
       "      <td>1</td>\n",
       "    </tr>\n",
       "    <tr>\n",
       "      <th>16324</th>\n",
       "      <td>-0.441668</td>\n",
       "      <td>1.298074</td>\n",
       "      <td>-0.423648</td>\n",
       "      <td>-1.083473</td>\n",
       "      <td>-0.125907</td>\n",
       "      <td>-0.200724</td>\n",
       "      <td>-0.043595</td>\n",
       "      <td>-0.137955</td>\n",
       "      <td>-0.069353</td>\n",
       "      <td>-0.137667</td>\n",
       "      <td>1</td>\n",
       "      <td>0</td>\n",
       "      <td>0</td>\n",
       "      <td>0</td>\n",
       "      <td>1</td>\n",
       "      <td>0</td>\n",
       "      <td>0</td>\n",
       "    </tr>\n",
       "    <tr>\n",
       "      <th>17282</th>\n",
       "      <td>-0.365942</td>\n",
       "      <td>1.588052</td>\n",
       "      <td>0.712802</td>\n",
       "      <td>-1.372399</td>\n",
       "      <td>-1.303741</td>\n",
       "      <td>-1.348408</td>\n",
       "      <td>1.709325</td>\n",
       "      <td>-0.289924</td>\n",
       "      <td>-0.069353</td>\n",
       "      <td>-0.137667</td>\n",
       "      <td>1</td>\n",
       "      <td>0</td>\n",
       "      <td>0</td>\n",
       "      <td>0</td>\n",
       "      <td>1</td>\n",
       "      <td>0</td>\n",
       "      <td>0</td>\n",
       "    </tr>\n",
       "  </tbody>\n",
       "</table>\n",
       "<p>8765 rows × 17 columns</p>\n",
       "</div>"
      ],
      "text/plain": [
       "             No     month       day      hour      DEWP      TEMP      PRES  \\\n",
       "36622  1.162803 -1.021753 -1.105519  1.516862 -1.858015 -0.856543  1.222403   \n",
       "21170 -0.058612 -0.151818 -1.673744 -1.372399  0.913358  0.291141 -0.238363   \n",
       "7840  -1.112292  1.298074  0.826448  0.650084 -0.610897 -0.446656  0.151174   \n",
       "29130  0.570592 -0.731775  1.394673  0.939010  0.359084  0.537074 -0.822670   \n",
       "7639  -1.128181  1.298074 -0.082713 -0.650084 -0.680181 -1.020498  1.806710   \n",
       "...         ...       ...       ...       ...       ...       ...       ...   \n",
       "36363  1.142330 -1.311731  0.940093 -1.227936 -0.472328 -0.856543  1.125019   \n",
       "43693  1.721735  1.588052  1.167383  0.216695 -0.749466 -0.856543  1.417172   \n",
       "20621 -0.102009 -0.441796 -0.764584 -0.939010  0.428368 -0.036769 -0.238363   \n",
       "16324 -0.441668  1.298074 -0.423648 -1.083473 -0.125907 -0.200724 -0.043595   \n",
       "17282 -0.365942  1.588052  0.712802 -1.372399 -1.303741 -1.348408  1.709325   \n",
       "\n",
       "            Iws        Is        Ir  year_2011  year_2012  year_2013  \\\n",
       "36622 -0.137955 -0.069353 -0.137667          0          0          0   \n",
       "21170 -0.325717 -0.069353  0.568622          0          1          0   \n",
       "7840  -0.459890 -0.069353 -0.137667          0          0          0   \n",
       "29130 -0.415099 -0.069353 -0.137667          0          0          1   \n",
       "7639   4.100792 -0.069353 -0.137667          0          0          0   \n",
       "...         ...       ...       ...        ...        ...        ...   \n",
       "36363 -0.459890 -0.069353 -0.137667          0          0          0   \n",
       "43693 -0.442094 -0.069353 -0.137667          0          0          0   \n",
       "20621 -0.424297 -0.069353 -0.137667          0          1          0   \n",
       "16324 -0.137955 -0.069353 -0.137667          1          0          0   \n",
       "17282 -0.289924 -0.069353 -0.137667          1          0          0   \n",
       "\n",
       "       year_2014  cbwd_NW  cbwd_SE  cbwd_cv  \n",
       "36622          1        0        1        0  \n",
       "21170          0        1        0        0  \n",
       "7840           0        0        0        1  \n",
       "29130          0        1        0        0  \n",
       "7639           0        1        0        0  \n",
       "...          ...      ...      ...      ...  \n",
       "36363          1        1        0        0  \n",
       "43693          1        0        0        1  \n",
       "20621          0        0        0        1  \n",
       "16324          0        1        0        0  \n",
       "17282          0        1        0        0  \n",
       "\n",
       "[8765 rows x 17 columns]"
      ]
     },
     "execution_count": 44,
     "metadata": {},
     "output_type": "execute_result"
    }
   ],
   "source": [
    "X_test"
   ]
  },
  {
   "cell_type": "code",
   "execution_count": 45,
   "id": "7b04176b",
   "metadata": {},
   "outputs": [
    {
     "data": {
      "text/plain": [
       "36622   -0.641199\n",
       "21170   -0.485388\n",
       "7840     1.217407\n",
       "29130   -0.029083\n",
       "7639    -0.874916\n",
       "           ...   \n",
       "36363    2.675356\n",
       "43693    0.594162\n",
       "20621    0.071081\n",
       "16324   -0.886046\n",
       "17282   -0.941693\n",
       "Name: pm2.5, Length: 8765, dtype: float64"
      ]
     },
     "execution_count": 45,
     "metadata": {},
     "output_type": "execute_result"
    }
   ],
   "source": [
    "Y_test"
   ]
  },
  {
   "cell_type": "code",
   "execution_count": 46,
   "id": "35afbf64",
   "metadata": {},
   "outputs": [
    {
     "name": "stdout",
     "output_type": "stream",
     "text": [
      "(35059, 17)\n",
      "(8765, 17)\n"
     ]
    }
   ],
   "source": [
    "print(X_train.shape)\n",
    "print(X_test.shape)"
   ]
  },
  {
   "cell_type": "markdown",
   "id": "d7a68101",
   "metadata": {},
   "source": [
    "# "
   ]
  },
  {
   "cell_type": "markdown",
   "id": "2f068e92",
   "metadata": {},
   "source": [
    "# RIDGE REGRESSOR"
   ]
  },
  {
   "cell_type": "code",
   "execution_count": 47,
   "id": "b4417dbb",
   "metadata": {},
   "outputs": [
    {
     "data": {
      "text/html": [
       "<style>#sk-container-id-1 {color: black;background-color: white;}#sk-container-id-1 pre{padding: 0;}#sk-container-id-1 div.sk-toggleable {background-color: white;}#sk-container-id-1 label.sk-toggleable__label {cursor: pointer;display: block;width: 100%;margin-bottom: 0;padding: 0.3em;box-sizing: border-box;text-align: center;}#sk-container-id-1 label.sk-toggleable__label-arrow:before {content: \"▸\";float: left;margin-right: 0.25em;color: #696969;}#sk-container-id-1 label.sk-toggleable__label-arrow:hover:before {color: black;}#sk-container-id-1 div.sk-estimator:hover label.sk-toggleable__label-arrow:before {color: black;}#sk-container-id-1 div.sk-toggleable__content {max-height: 0;max-width: 0;overflow: hidden;text-align: left;background-color: #f0f8ff;}#sk-container-id-1 div.sk-toggleable__content pre {margin: 0.2em;color: black;border-radius: 0.25em;background-color: #f0f8ff;}#sk-container-id-1 input.sk-toggleable__control:checked~div.sk-toggleable__content {max-height: 200px;max-width: 100%;overflow: auto;}#sk-container-id-1 input.sk-toggleable__control:checked~label.sk-toggleable__label-arrow:before {content: \"▾\";}#sk-container-id-1 div.sk-estimator input.sk-toggleable__control:checked~label.sk-toggleable__label {background-color: #d4ebff;}#sk-container-id-1 div.sk-label input.sk-toggleable__control:checked~label.sk-toggleable__label {background-color: #d4ebff;}#sk-container-id-1 input.sk-hidden--visually {border: 0;clip: rect(1px 1px 1px 1px);clip: rect(1px, 1px, 1px, 1px);height: 1px;margin: -1px;overflow: hidden;padding: 0;position: absolute;width: 1px;}#sk-container-id-1 div.sk-estimator {font-family: monospace;background-color: #f0f8ff;border: 1px dotted black;border-radius: 0.25em;box-sizing: border-box;margin-bottom: 0.5em;}#sk-container-id-1 div.sk-estimator:hover {background-color: #d4ebff;}#sk-container-id-1 div.sk-parallel-item::after {content: \"\";width: 100%;border-bottom: 1px solid gray;flex-grow: 1;}#sk-container-id-1 div.sk-label:hover label.sk-toggleable__label {background-color: #d4ebff;}#sk-container-id-1 div.sk-serial::before {content: \"\";position: absolute;border-left: 1px solid gray;box-sizing: border-box;top: 0;bottom: 0;left: 50%;z-index: 0;}#sk-container-id-1 div.sk-serial {display: flex;flex-direction: column;align-items: center;background-color: white;padding-right: 0.2em;padding-left: 0.2em;position: relative;}#sk-container-id-1 div.sk-item {position: relative;z-index: 1;}#sk-container-id-1 div.sk-parallel {display: flex;align-items: stretch;justify-content: center;background-color: white;position: relative;}#sk-container-id-1 div.sk-item::before, #sk-container-id-1 div.sk-parallel-item::before {content: \"\";position: absolute;border-left: 1px solid gray;box-sizing: border-box;top: 0;bottom: 0;left: 50%;z-index: -1;}#sk-container-id-1 div.sk-parallel-item {display: flex;flex-direction: column;z-index: 1;position: relative;background-color: white;}#sk-container-id-1 div.sk-parallel-item:first-child::after {align-self: flex-end;width: 50%;}#sk-container-id-1 div.sk-parallel-item:last-child::after {align-self: flex-start;width: 50%;}#sk-container-id-1 div.sk-parallel-item:only-child::after {width: 0;}#sk-container-id-1 div.sk-dashed-wrapped {border: 1px dashed gray;margin: 0 0.4em 0.5em 0.4em;box-sizing: border-box;padding-bottom: 0.4em;background-color: white;}#sk-container-id-1 div.sk-label label {font-family: monospace;font-weight: bold;display: inline-block;line-height: 1.2em;}#sk-container-id-1 div.sk-label-container {text-align: center;}#sk-container-id-1 div.sk-container {/* jupyter's `normalize.less` sets `[hidden] { display: none; }` but bootstrap.min.css set `[hidden] { display: none !important; }` so we also need the `!important` here to be able to override the default hidden behavior on the sphinx rendered scikit-learn.org. See: https://github.com/scikit-learn/scikit-learn/issues/21755 */display: inline-block !important;position: relative;}#sk-container-id-1 div.sk-text-repr-fallback {display: none;}</style><div id=\"sk-container-id-1\" class=\"sk-top-container\"><div class=\"sk-text-repr-fallback\"><pre>Ridge(alpha=0.1)</pre><b>In a Jupyter environment, please rerun this cell to show the HTML representation or trust the notebook. <br />On GitHub, the HTML representation is unable to render, please try loading this page with nbviewer.org.</b></div><div class=\"sk-container\" hidden><div class=\"sk-item\"><div class=\"sk-estimator sk-toggleable\"><input class=\"sk-toggleable__control sk-hidden--visually\" id=\"sk-estimator-id-1\" type=\"checkbox\" checked><label for=\"sk-estimator-id-1\" class=\"sk-toggleable__label sk-toggleable__label-arrow\">Ridge</label><div class=\"sk-toggleable__content\"><pre>Ridge(alpha=0.1)</pre></div></div></div></div></div>"
      ],
      "text/plain": [
       "Ridge(alpha=0.1)"
      ]
     },
     "execution_count": 47,
     "metadata": {},
     "output_type": "execute_result"
    }
   ],
   "source": [
    "rr = Ridge(alpha=0.1)\n",
    "rr.fit(X_train,Y_train)"
   ]
  },
  {
   "cell_type": "code",
   "execution_count": 48,
   "id": "92d6f7ca",
   "metadata": {},
   "outputs": [],
   "source": [
    "pred_train_rr = (rr.predict(X_train))\n",
    "pred_test_rr = (rr.predict(X_test))"
   ]
  },
  {
   "cell_type": "markdown",
   "id": "df9ae51a",
   "metadata": {},
   "source": [
    "# RANDOM FOREST REGRESSOR"
   ]
  },
  {
   "cell_type": "code",
   "execution_count": 50,
   "id": "99ff80d8",
   "metadata": {},
   "outputs": [
    {
     "data": {
      "text/html": [
       "<style>#sk-container-id-3 {color: black;background-color: white;}#sk-container-id-3 pre{padding: 0;}#sk-container-id-3 div.sk-toggleable {background-color: white;}#sk-container-id-3 label.sk-toggleable__label {cursor: pointer;display: block;width: 100%;margin-bottom: 0;padding: 0.3em;box-sizing: border-box;text-align: center;}#sk-container-id-3 label.sk-toggleable__label-arrow:before {content: \"▸\";float: left;margin-right: 0.25em;color: #696969;}#sk-container-id-3 label.sk-toggleable__label-arrow:hover:before {color: black;}#sk-container-id-3 div.sk-estimator:hover label.sk-toggleable__label-arrow:before {color: black;}#sk-container-id-3 div.sk-toggleable__content {max-height: 0;max-width: 0;overflow: hidden;text-align: left;background-color: #f0f8ff;}#sk-container-id-3 div.sk-toggleable__content pre {margin: 0.2em;color: black;border-radius: 0.25em;background-color: #f0f8ff;}#sk-container-id-3 input.sk-toggleable__control:checked~div.sk-toggleable__content {max-height: 200px;max-width: 100%;overflow: auto;}#sk-container-id-3 input.sk-toggleable__control:checked~label.sk-toggleable__label-arrow:before {content: \"▾\";}#sk-container-id-3 div.sk-estimator input.sk-toggleable__control:checked~label.sk-toggleable__label {background-color: #d4ebff;}#sk-container-id-3 div.sk-label input.sk-toggleable__control:checked~label.sk-toggleable__label {background-color: #d4ebff;}#sk-container-id-3 input.sk-hidden--visually {border: 0;clip: rect(1px 1px 1px 1px);clip: rect(1px, 1px, 1px, 1px);height: 1px;margin: -1px;overflow: hidden;padding: 0;position: absolute;width: 1px;}#sk-container-id-3 div.sk-estimator {font-family: monospace;background-color: #f0f8ff;border: 1px dotted black;border-radius: 0.25em;box-sizing: border-box;margin-bottom: 0.5em;}#sk-container-id-3 div.sk-estimator:hover {background-color: #d4ebff;}#sk-container-id-3 div.sk-parallel-item::after {content: \"\";width: 100%;border-bottom: 1px solid gray;flex-grow: 1;}#sk-container-id-3 div.sk-label:hover label.sk-toggleable__label {background-color: #d4ebff;}#sk-container-id-3 div.sk-serial::before {content: \"\";position: absolute;border-left: 1px solid gray;box-sizing: border-box;top: 0;bottom: 0;left: 50%;z-index: 0;}#sk-container-id-3 div.sk-serial {display: flex;flex-direction: column;align-items: center;background-color: white;padding-right: 0.2em;padding-left: 0.2em;position: relative;}#sk-container-id-3 div.sk-item {position: relative;z-index: 1;}#sk-container-id-3 div.sk-parallel {display: flex;align-items: stretch;justify-content: center;background-color: white;position: relative;}#sk-container-id-3 div.sk-item::before, #sk-container-id-3 div.sk-parallel-item::before {content: \"\";position: absolute;border-left: 1px solid gray;box-sizing: border-box;top: 0;bottom: 0;left: 50%;z-index: -1;}#sk-container-id-3 div.sk-parallel-item {display: flex;flex-direction: column;z-index: 1;position: relative;background-color: white;}#sk-container-id-3 div.sk-parallel-item:first-child::after {align-self: flex-end;width: 50%;}#sk-container-id-3 div.sk-parallel-item:last-child::after {align-self: flex-start;width: 50%;}#sk-container-id-3 div.sk-parallel-item:only-child::after {width: 0;}#sk-container-id-3 div.sk-dashed-wrapped {border: 1px dashed gray;margin: 0 0.4em 0.5em 0.4em;box-sizing: border-box;padding-bottom: 0.4em;background-color: white;}#sk-container-id-3 div.sk-label label {font-family: monospace;font-weight: bold;display: inline-block;line-height: 1.2em;}#sk-container-id-3 div.sk-label-container {text-align: center;}#sk-container-id-3 div.sk-container {/* jupyter's `normalize.less` sets `[hidden] { display: none; }` but bootstrap.min.css set `[hidden] { display: none !important; }` so we also need the `!important` here to be able to override the default hidden behavior on the sphinx rendered scikit-learn.org. See: https://github.com/scikit-learn/scikit-learn/issues/21755 */display: inline-block !important;position: relative;}#sk-container-id-3 div.sk-text-repr-fallback {display: none;}</style><div id=\"sk-container-id-3\" class=\"sk-top-container\"><div class=\"sk-text-repr-fallback\"><pre>RandomForestRegressor(max_depth=5, min_samples_split=4, n_estimators=60,\n",
       "                      random_state=42)</pre><b>In a Jupyter environment, please rerun this cell to show the HTML representation or trust the notebook. <br />On GitHub, the HTML representation is unable to render, please try loading this page with nbviewer.org.</b></div><div class=\"sk-container\" hidden><div class=\"sk-item\"><div class=\"sk-estimator sk-toggleable\"><input class=\"sk-toggleable__control sk-hidden--visually\" id=\"sk-estimator-id-3\" type=\"checkbox\" checked><label for=\"sk-estimator-id-3\" class=\"sk-toggleable__label sk-toggleable__label-arrow\">RandomForestRegressor</label><div class=\"sk-toggleable__content\"><pre>RandomForestRegressor(max_depth=5, min_samples_split=4, n_estimators=60,\n",
       "                      random_state=42)</pre></div></div></div></div></div>"
      ],
      "text/plain": [
       "RandomForestRegressor(max_depth=5, min_samples_split=4, n_estimators=60,\n",
       "                      random_state=42)"
      ]
     },
     "execution_count": 50,
     "metadata": {},
     "output_type": "execute_result"
    }
   ],
   "source": [
    "reg = RandomForestRegressor(random_state = 42, n_estimators = 60, max_depth = 5, min_samples_split = 4, bootstrap = True)\n",
    "reg.fit(X_train, Y_train)"
   ]
  },
  {
   "cell_type": "code",
   "execution_count": 51,
   "id": "4ca038be",
   "metadata": {},
   "outputs": [],
   "source": [
    "pred_train_reg = (reg.predict(X_train))\n",
    "pred_test_reg = (reg.predict(X_test))"
   ]
  },
  {
   "cell_type": "markdown",
   "id": "538f90b0",
   "metadata": {},
   "source": [
    "# MODEL EVALUATION"
   ]
  },
  {
   "cell_type": "markdown",
   "id": "66e7f1e9",
   "metadata": {},
   "source": [
    "### RIDGE REGRESSOR"
   ]
  },
  {
   "cell_type": "code",
   "execution_count": 52,
   "id": "0052889d",
   "metadata": {},
   "outputs": [],
   "source": [
    "from sklearn.metrics import mean_absolute_error\n",
    "from sklearn.metrics import mean_squared_error"
   ]
  },
  {
   "cell_type": "code",
   "execution_count": 57,
   "id": "e4789435",
   "metadata": {},
   "outputs": [
    {
     "name": "stdout",
     "output_type": "stream",
     "text": [
      " Training DataSet \n",
      " Mean absolute error :     0.6119024869951715\n",
      " Mean squared error  :     0.7399774441102097\n",
      " Root mean squared error:  0.8602194162597179\n"
     ]
    }
   ],
   "source": [
    "print(\" Training DataSet \")\n",
    "print(\" Mean absolute error :    \",mean_absolute_error(Y_test,pred_test_rr))\n",
    "print(\" Mean squared error  :    \",mean_squared_error(Y_train,pred_train_rr))\n",
    "print(\" Root mean squared error: \",np.sqrt(mean_squared_error(Y_train,pred_train_rr)))\n"
   ]
  },
  {
   "cell_type": "code",
   "execution_count": 58,
   "id": "67c047e8",
   "metadata": {},
   "outputs": [
    {
     "name": "stdout",
     "output_type": "stream",
     "text": [
      " Testing DataSet \n",
      " Mean absolute error :     0.6119024869951715\n",
      " Mean squared error :      0.7075016059777566\n",
      " Root mean squared error:  0.841131146717179\n"
     ]
    }
   ],
   "source": [
    "print(\" Testing DataSet \")\n",
    "print(\" Mean absolute error :    \",mean_absolute_error(Y_test,pred_test_rr))\n",
    "print(\" Mean squared error :     \",mean_squared_error(Y_test,pred_test_rr))\n",
    "print(\" Root mean squared error: \",np.sqrt(mean_squared_error(Y_test,pred_test_rr)))"
   ]
  },
  {
   "cell_type": "markdown",
   "id": "ca8fbd2a",
   "metadata": {},
   "source": [
    "### RANDOM FOREST REGRESSOR"
   ]
  },
  {
   "cell_type": "code",
   "execution_count": 59,
   "id": "2071ff0a",
   "metadata": {},
   "outputs": [
    {
     "name": "stdout",
     "output_type": "stream",
     "text": [
      " Training DataSet \n",
      " Mean absolute error :     0.5634515176431829\n",
      " Mean squared error :      0.6320784120725781\n",
      " Root mean squared error:  0.7950335917887861\n"
     ]
    }
   ],
   "source": [
    "print(\" Training DataSet \")\n",
    "print(\" Mean absolute error :    \",mean_absolute_error(Y_train,pred_train_reg))\n",
    "print(\" Mean squared error :     \",mean_squared_error(Y_train,pred_train_reg))\n",
    "print(\" Root mean squared error: \",np.sqrt(mean_squared_error(Y_train,pred_train_reg)))"
   ]
  },
  {
   "cell_type": "code",
   "execution_count": 60,
   "id": "ef3b7df7",
   "metadata": {},
   "outputs": [
    {
     "name": "stdout",
     "output_type": "stream",
     "text": [
      " Testing DataSet \n",
      " Mean absolute error :     0.5672160945250241\n",
      " Mean squared error :      0.6275321430900516\n",
      " Root mean squared error:  0.7921692641664732\n"
     ]
    }
   ],
   "source": [
    "print(\" Testing DataSet \")\n",
    "print(\" Mean absolute error :    \",mean_absolute_error(Y_test,pred_test_reg))\n",
    "print(\" Mean squared error :     \",mean_squared_error(Y_test,pred_test_reg))\n",
    "print(\" Root mean squared error: \",np.sqrt(mean_squared_error(Y_test,pred_test_reg)))"
   ]
  },
  {
   "cell_type": "markdown",
   "id": "322c0e82",
   "metadata": {},
   "source": [
    "# OVERFITTING AND CROSS VALIDATION"
   ]
  },
  {
   "cell_type": "code",
   "execution_count": 66,
   "id": "11561754",
   "metadata": {},
   "outputs": [
    {
     "name": "stdout",
     "output_type": "stream",
     "text": [
      " Accuracy on training data set\n",
      " Accuracy on Ridge Regressor training data set :          0.2638435874559807\n",
      " Accuracy on Random Forest Regressor training data set :  0.3711854597981935\n"
     ]
    }
   ],
   "source": [
    "print(\" Accuracy on training data set\")\n",
    "print(\" Accuracy on Ridge Regressor training data set :         \",rr.score(X_train,Y_train))\n",
    "print(\" Accuracy on Random Forest Regressor training data set : \",reg.score(X_train,Y_train))\n",
    "acc_ridge_train  = rr.score(X_train,Y_train)\n",
    "acc_random_train =reg.score(X_train,Y_train)"
   ]
  },
  {
   "cell_type": "code",
   "execution_count": 65,
   "id": "42fa786c",
   "metadata": {},
   "outputs": [
    {
     "name": "stdout",
     "output_type": "stream",
     "text": [
      " Accuracy on test data set\n",
      " Accuracy on Ridge Regressor test data set :          0.2774839186733473\n",
      " Accuracy on Random Forest Regressor test data set :  0.35915047951679835\n"
     ]
    }
   ],
   "source": [
    "print(\" Accuracy on test data set\")\n",
    "print(\" Accuracy on Ridge Regressor test data set :         \",rr.score(X_test,Y_test))\n",
    "print(\" Accuracy on Random Forest Regressor test data set : \",reg.score(X_test,Y_test))\n",
    "acc_ridge_test=rr.score(X_test,Y_test)\n",
    "acc_random_test=reg.score(X_test,Y_test)"
   ]
  },
  {
   "cell_type": "code",
   "execution_count": 63,
   "id": "6ec22697",
   "metadata": {},
   "outputs": [
    {
     "name": "stdout",
     "output_type": "stream",
     "text": [
      "RIDGE REGRESSOR MODEL IS OVERFITTED\n"
     ]
    }
   ],
   "source": [
    "if acc_ridge_train > acc_ridge_test:\n",
    "    print('RIDGE REGRESSOR MODEL IS NOT OVERFITTED!')\n",
    "else:\n",
    "    print( 'RIDGE REGRESSOR MODEL IS OVERFITTED')"
   ]
  },
  {
   "cell_type": "code",
   "execution_count": 67,
   "id": "a247422b",
   "metadata": {},
   "outputs": [
    {
     "name": "stdout",
     "output_type": "stream",
     "text": [
      "RANDOM FOREST REGRESSOR MODEL IS NOT OVERFITTED!\n"
     ]
    }
   ],
   "source": [
    "if acc_random_train > acc_random_test:\n",
    "    print('RANDOM FOREST REGRESSOR MODEL IS NOT OVERFITTED!')\n",
    "else:\n",
    "    print( 'RANDOM FOREST REGRESSOR MODEL IS OVERFITTED')"
   ]
  }
 ],
 "metadata": {
  "kernelspec": {
   "display_name": "Python 3 (ipykernel)",
   "language": "python",
   "name": "python3"
  },
  "language_info": {
   "codemirror_mode": {
    "name": "ipython",
    "version": 3
   },
   "file_extension": ".py",
   "mimetype": "text/x-python",
   "name": "python",
   "nbconvert_exporter": "python",
   "pygments_lexer": "ipython3",
   "version": "3.10.9"
  }
 },
 "nbformat": 4,
 "nbformat_minor": 5
}
